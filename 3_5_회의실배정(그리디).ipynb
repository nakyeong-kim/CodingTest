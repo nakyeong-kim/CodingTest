{
  "nbformat": 4,
  "nbformat_minor": 0,
  "metadata": {
    "colab": {
      "provenance": [],
      "authorship_tag": "ABX9TyPu2sOSVmhAurXLonwRGQqg",
      "include_colab_link": true
    },
    "kernelspec": {
      "name": "python3",
      "display_name": "Python 3"
    },
    "language_info": {
      "name": "python"
    }
  },
  "cells": [
    {
      "cell_type": "markdown",
      "metadata": {
        "id": "view-in-github",
        "colab_type": "text"
      },
      "source": [
        "<a href=\"https://colab.research.google.com/github/nakyeong-kim/CodingTest/blob/main/3_5_%ED%9A%8C%EC%9D%98%EC%8B%A4%EB%B0%B0%EC%A0%95(%EA%B7%B8%EB%A6%AC%EB%94%94).ipynb\" target=\"_parent\"><img src=\"https://colab.research.google.com/assets/colab-badge.svg\" alt=\"Open In Colab\"/></a>"
      ]
    },
    {
      "cell_type": "code",
      "execution_count": 4,
      "metadata": {
        "id": "Vn6THiimyyRU",
        "colab": {
          "base_uri": "https://localhost:8080/"
        },
        "outputId": "19f60a5d-0add-4c22-f3fa-7d424f16dff6"
      },
      "outputs": [
        {
          "output_type": "stream",
          "name": "stdout",
          "text": [
            "5\n",
            "1 4\n",
            "2 3\n",
            "3 5\n",
            "4 6\n",
            "5 7\n",
            "3\n"
          ]
        }
      ],
      "source": [
        "def AssignMeetingroom(n, meeting_list):\n",
        "  meeting_list.sort(key=lambda x:(x[1], x[0]))\n",
        "\n",
        "  result = 1\n",
        "  end_time = meeting_list[0][1]\n",
        "  for i in range(1, n):\n",
        "    if meeting_list[i][0] >= end_time:\n",
        "      result += 1\n",
        "      end_time = meeting_list[i][1]\n",
        "\n",
        "  return result\n",
        "\n",
        "n = int(input())\n",
        "meeting_list = []\n",
        "for _ in range(n):\n",
        "  meeting_list.append(list(map(int, input().split())))\n",
        "\n",
        "print(AssignMeetingroom(n, meeting_list))"
      ]
    }
  ]
}