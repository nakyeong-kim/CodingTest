{
  "nbformat": 4,
  "nbformat_minor": 0,
  "metadata": {
    "colab": {
      "provenance": [],
      "authorship_tag": "ABX9TyNutreN6rE8ado5Mze6XiOn",
      "include_colab_link": true
    },
    "kernelspec": {
      "name": "python3",
      "display_name": "Python 3"
    },
    "language_info": {
      "name": "python"
    }
  },
  "cells": [
    {
      "cell_type": "markdown",
      "metadata": {
        "id": "view-in-github",
        "colab_type": "text"
      },
      "source": [
        "<a href=\"https://colab.research.google.com/github/nakyeong-kim/CodingTest/blob/main/2_3_%EC%B9%B4%EB%93%9C%EC%97%AD%EB%B0%B0%EC%B9%98.ipynb\" target=\"_parent\"><img src=\"https://colab.research.google.com/assets/colab-badge.svg\" alt=\"Open In Colab\"/></a>"
      ]
    },
    {
      "cell_type": "code",
      "execution_count": 10,
      "metadata": {
        "id": "NArwaAtXXecq",
        "colab": {
          "base_uri": "https://localhost:8080/"
        },
        "outputId": "c6924378-0b16-4f9e-a0a6-2323d83027d4"
      },
      "outputs": [
        {
          "output_type": "stream",
          "name": "stdout",
          "text": [
            "5 10\n",
            "9 13\n",
            "1 2\n",
            "3 4\n",
            "5 6\n",
            "1 2\n",
            "3 4\n",
            "5 6\n",
            "1 20\n",
            "1 20\n",
            "[1, 2, 3, 4, 10, 9, 8, 7, 13, 12, 11, 5, 6, 14, 15, 16, 17, 18, 19, 20]\n"
          ]
        }
      ],
      "source": [
        "def ReverseCard(a, b):\n",
        "  temp = card[a-1:b]\n",
        "  card[a-1:b] = temp[::-1]\n",
        "\n",
        "card = [_ for _ in range(1, 21)]\n",
        "for _ in range(10):\n",
        "  a, b = map(int, input().split())\n",
        "  ReverseCard(a, b)\n",
        "print(card)"
      ]
    },
    {
      "cell_type": "code",
      "source": [
        "def ReverseCard(a, b):\n",
        "  temp = card[a-1:b]\n",
        "  for i in range(b-a+1):\n",
        "    card[a-1+i] = temp[-(i+1)]\n",
        "\n",
        "card = [_ for _ in range(1, 21)]\n",
        "for _ in range(10):\n",
        "  a, b = map(int, input().split())\n",
        "  ReverseCard(a, b)\n",
        "print(card)"
      ],
      "metadata": {
        "colab": {
          "base_uri": "https://localhost:8080/"
        },
        "id": "ymsmLny6rwG2",
        "outputId": "0120c1df-835b-4fc4-ef70-3fb46cffcb3e"
      },
      "execution_count": 12,
      "outputs": [
        {
          "output_type": "stream",
          "name": "stdout",
          "text": [
            "5 10\n",
            "9 13\n",
            "1 2\n",
            "3 4\n",
            "5 6\n",
            "1 2\n",
            "3 4\n",
            "5 6\n",
            "1 20\n",
            "1 20\n",
            "[1, 2, 3, 4, 10, 9, 8, 7, 13, 12, 11, 5, 6, 14, 15, 16, 17, 18, 19, 20]\n"
          ]
        }
      ]
    }
  ]
}