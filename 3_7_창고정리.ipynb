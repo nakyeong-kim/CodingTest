{
  "nbformat": 4,
  "nbformat_minor": 0,
  "metadata": {
    "colab": {
      "provenance": [],
      "authorship_tag": "ABX9TyNB/QXEwc9U89ZabyvIf+eE",
      "include_colab_link": true
    },
    "kernelspec": {
      "name": "python3",
      "display_name": "Python 3"
    },
    "language_info": {
      "name": "python"
    }
  },
  "cells": [
    {
      "cell_type": "markdown",
      "metadata": {
        "id": "view-in-github",
        "colab_type": "text"
      },
      "source": [
        "<a href=\"https://colab.research.google.com/github/nakyeong-kim/CodingTest/blob/main/3_7_%EC%B0%BD%EA%B3%A0%EC%A0%95%EB%A6%AC.ipynb\" target=\"_parent\"><img src=\"https://colab.research.google.com/assets/colab-badge.svg\" alt=\"Open In Colab\"/></a>"
      ]
    },
    {
      "cell_type": "code",
      "execution_count": 7,
      "metadata": {
        "id": "Vn6THiimyyRU",
        "colab": {
          "base_uri": "https://localhost:8080/"
        },
        "outputId": "4f76220b-1414-4d67-f9e5-fab6dd988ee1"
      },
      "outputs": [
        {
          "output_type": "stream",
          "name": "stdout",
          "text": [
            "10\n",
            "69 42 68 76 40 87 14 65 76 81\n",
            "50\n",
            "20\n"
          ]
        }
      ],
      "source": [
        "def OrganizeWarehouse(L, box_list, M):\n",
        "  for _ in range(M):\n",
        "    max_i = box_list.index(max(box_list))   # index() 사용법 유의! max(box_list).index() 아님. 에러 발생.\n",
        "    min_i = box_list.index(min(box_list))\n",
        "    box_list[max_i] -= 1\n",
        "    box_list[min_i] += 1\n",
        "\n",
        "  return max(box_list) - min(box_list)\n",
        "\n",
        "\n",
        "L = int(input())\n",
        "box_list = list(map(int, input().split()))\n",
        "M = int(input())\n",
        "\n",
        "print(OrganizeWarehouse(L, box_list, M))"
      ]
    }
  ]
}