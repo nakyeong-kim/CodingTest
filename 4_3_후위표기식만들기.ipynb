{
  "nbformat": 4,
  "nbformat_minor": 0,
  "metadata": {
    "colab": {
      "provenance": [],
      "authorship_tag": "ABX9TyO3OtWunxUB0EiMCi/s1XUk",
      "include_colab_link": true
    },
    "kernelspec": {
      "name": "python3",
      "display_name": "Python 3"
    },
    "language_info": {
      "name": "python"
    }
  },
  "cells": [
    {
      "cell_type": "markdown",
      "metadata": {
        "id": "view-in-github",
        "colab_type": "text"
      },
      "source": [
        "<a href=\"https://colab.research.google.com/github/nakyeong-kim/CodingTest/blob/main/4_3_%ED%9B%84%EC%9C%84%ED%91%9C%EA%B8%B0%EC%8B%9D%EB%A7%8C%EB%93%A4%EA%B8%B0.ipynb\" target=\"_parent\"><img src=\"https://colab.research.google.com/assets/colab-badge.svg\" alt=\"Open In Colab\"/></a>"
      ]
    },
    {
      "cell_type": "code",
      "execution_count": 20,
      "metadata": {
        "id": "Vn6THiimyyRU",
        "colab": {
          "base_uri": "https://localhost:8080/"
        },
        "outputId": "10022f7e-146d-4853-ea84-49f34303393b"
      },
      "outputs": [
        {
          "output_type": "stream",
          "name": "stdout",
          "text": [
            "3*(5+2)-9\n",
            "352+*9-\n"
          ]
        }
      ],
      "source": [
        "def PostfixExpression(infix_expression):\n",
        "  stack = []\n",
        "  postfix_expression = []\n",
        "  priority = {'+':1, '-':1, '*':2, '/':2, '(':2}\n",
        "\n",
        "  for i in infix_expression:\n",
        "    if i.isdecimal():\n",
        "      postfix_expression.append(i)\n",
        "      while stack:\n",
        "        if stack[-1] in ['*', '/']:\n",
        "          postfix_expression.append(stack.pop())\n",
        "        elif stack[-1] in ['+', '-', '(']:\n",
        "          break\n",
        "    else:\n",
        "      stack.append(i)\n",
        "      if stack and stack[-1] == ')':\n",
        "        stack.pop()\n",
        "        while stack[-1] != '(':\n",
        "          postfix_expression.append(stack.pop())\n",
        "        stack.pop()\n",
        "        while stack:\n",
        "          if stack[-1] in ['*', '/']:\n",
        "            postfix_expression.append(stack.pop())\n",
        "          elif stack[-1] in ['+', '-', '(']:\n",
        "            break\n",
        "\n",
        "  while stack:\n",
        "    if stack[-1] in ['(', ')']:\n",
        "      stack.pop()\n",
        "      continue\n",
        "    postfix_expression.append(stack.pop())\n",
        "\n",
        "  return \"\".join(postfix_expression)\n",
        "\n",
        "\n",
        "infix_expression = input()\n",
        "print(PostfixExpression(list(infix_expression)))"
      ]
    }
  ]
}