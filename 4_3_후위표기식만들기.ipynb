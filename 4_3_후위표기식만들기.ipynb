{
  "nbformat": 4,
  "nbformat_minor": 0,
  "metadata": {
    "colab": {
      "provenance": [],
      "authorship_tag": "ABX9TyMlGBXkz6eq1tjPLzlMooVm",
      "include_colab_link": true
    },
    "kernelspec": {
      "name": "python3",
      "display_name": "Python 3"
    },
    "language_info": {
      "name": "python"
    }
  },
  "cells": [
    {
      "cell_type": "markdown",
      "metadata": {
        "id": "view-in-github",
        "colab_type": "text"
      },
      "source": [
        "<a href=\"https://colab.research.google.com/github/nakyeong-kim/CodingTest/blob/main/4_3_%ED%9B%84%EC%9C%84%ED%91%9C%EA%B8%B0%EC%8B%9D%EB%A7%8C%EB%93%A4%EA%B8%B0.ipynb\" target=\"_parent\"><img src=\"https://colab.research.google.com/assets/colab-badge.svg\" alt=\"Open In Colab\"/></a>"
      ]
    },
    {
      "cell_type": "code",
      "execution_count": 23,
      "metadata": {
        "id": "Vn6THiimyyRU",
        "colab": {
          "base_uri": "https://localhost:8080/"
        },
        "outputId": "9f62607c-1b77-4951-eb38-62681738e8e8"
      },
      "outputs": [
        {
          "output_type": "stream",
          "name": "stdout",
          "text": [
            "5+8+6*5-(3+2)-7*3-5+(3+2*3)+(5+3+2-5*2)+3\n",
            "58+65*+32+-73*-5-323*++53+(+2+52*-3+\n"
          ]
        }
      ],
      "source": [
        "def PostfixExpression(infix_expression):\n",
        "  stack = []\n",
        "  postfix_expression = []\n",
        "  priority = {'-':1, '+':1, '*':2, '/':2, '(':3, ')':3}\n",
        "\n",
        "  for i in infix_expression:\n",
        "    if i.isdecimal():\n",
        "      postfix_expression.append(i)\n",
        "\n",
        "\n",
        "\n",
        "    # else:\n",
        "    #   if i == ')':\n",
        "    #     while stack:\n",
        "    #       temp = stack.pop()\n",
        "    #       if temp != '(':\n",
        "    #         postfix_expression.append(temp)\n",
        "    #     continue\n",
        "    #   elif stack and stack[-1] != '(' and priority[stack[-1]] >= priority[i]:\n",
        "    #     while stack:\n",
        "    #       postfix_expression.append(stack.pop())\n",
        "    #   stack.append(i)\n",
        "\n",
        "  while stack:\n",
        "    postfix_expression.append(stack.pop())\n",
        "\n",
        "  return \"\".join(postfix_expression)\n",
        "\n",
        "infix_expression = input()\n",
        "print(PostfixExpression(list(infix_expression)))"
      ]
    }
  ]
}