{
  "nbformat": 4,
  "nbformat_minor": 0,
  "metadata": {
    "colab": {
      "provenance": [],
      "authorship_tag": "ABX9TyOOhIHUsn+LLR5ecfG/2XcC",
      "include_colab_link": true
    },
    "kernelspec": {
      "name": "python3",
      "display_name": "Python 3"
    },
    "language_info": {
      "name": "python"
    }
  },
  "cells": [
    {
      "cell_type": "markdown",
      "metadata": {
        "id": "view-in-github",
        "colab_type": "text"
      },
      "source": [
        "<a href=\"https://colab.research.google.com/github/nakyeong-kim/CodingTest/blob/main/prgms8_%ED%94%84%EB%A1%9C%EC%84%B8%EC%8A%A4_lv2.ipynb\" target=\"_parent\"><img src=\"https://colab.research.google.com/assets/colab-badge.svg\" alt=\"Open In Colab\"/></a>"
      ]
    },
    {
      "cell_type": "code",
      "execution_count": null,
      "metadata": {
        "id": "RJFCGrd2DG01"
      },
      "outputs": [],
      "source": [
        "# 정확성 테스트 20/20     # max를 여러번 계산 X\n",
        "\n",
        "from collections import deque\n",
        "\n",
        "def solution(priorities, location):\n",
        "    queue = deque(enumerate(priorities))\n",
        "    order = 0\n",
        "    top_priority_process = max(queue, key = lambda x:x[1])[1]\n",
        "\n",
        "    while deque:\n",
        "        process = queue.popleft()\n",
        "        if process[1] < top_priority_process:\n",
        "            queue.append(process)\n",
        "        else:\n",
        "            order += 1\n",
        "            if process[0] == location:\n",
        "                return order\n",
        "            top_priority_process = max(queue, key = lambda x:x[1])[1]"
      ]
    },
    {
      "cell_type": "code",
      "source": [
        "# 정확성 테스트 17/20 (런타임 에러)\n",
        "\n",
        "from collections import deque\n",
        "\n",
        "def solution(priorities, location):\n",
        "    queue = deque(enumerate(priorities))\n",
        "    order = 0\n",
        "\n",
        "    while deque:\n",
        "        process = queue.popleft()\n",
        "        if process[1] < max(queue, key = lambda x:x[1])[1]:\n",
        "            queue.append(process)\n",
        "        else:\n",
        "            order += 1\n",
        "            if process[0] == location:\n",
        "                return order"
      ],
      "metadata": {
        "id": "O0QzEWEEyIrM"
      },
      "execution_count": null,
      "outputs": []
    }
  ]
}