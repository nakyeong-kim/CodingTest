{
  "nbformat": 4,
  "nbformat_minor": 0,
  "metadata": {
    "colab": {
      "provenance": [],
      "authorship_tag": "ABX9TyPDGTRtfc6rlDWjU87MXKud",
      "include_colab_link": true
    },
    "kernelspec": {
      "name": "python3",
      "display_name": "Python 3"
    },
    "language_info": {
      "name": "python"
    }
  },
  "cells": [
    {
      "cell_type": "markdown",
      "metadata": {
        "id": "view-in-github",
        "colab_type": "text"
      },
      "source": [
        "<a href=\"https://colab.research.google.com/github/nakyeong-kim/CodingTest/blob/main/2_9_%EB%B4%89%EC%9A%B0%EB%A6%AC.ipynb\" target=\"_parent\"><img src=\"https://colab.research.google.com/assets/colab-badge.svg\" alt=\"Open In Colab\"/></a>"
      ]
    },
    {
      "cell_type": "code",
      "execution_count": 14,
      "metadata": {
        "id": "kwRVq1lJhr-o",
        "colab": {
          "base_uri": "https://localhost:8080/"
        },
        "outputId": "c1895249-4e1e-40ca-82ce-66c9e20a89d9"
      },
      "outputs": [
        {
          "output_type": "stream",
          "name": "stdout",
          "text": [
            "5\n",
            "5 3 7 2 3\n",
            "3 7 1 6 1\n",
            "7 2 5 3 4\n",
            "4 3 6 4 1\n",
            "8 7 3 5 2\n",
            "10\n"
          ]
        }
      ],
      "source": [
        "def Peak(N, arr):\n",
        "  check_arr = [[True] * (N) for _ in range(N)]\n",
        "\n",
        "  for i in range(N):\n",
        "    for j in range(N):\n",
        "      if i == 0 or i == N-1 or j == 0 or j == N-1:\n",
        "        check_arr[i][j] = False\n",
        "      elif check_arr[i][j] and arr[i][j] > arr[i-1][j] and arr[i][j] > arr[i][j-1] and arr[i][j] > arr[i+1][j] and arr[i][j] > arr[i][j+1]:\n",
        "        check_arr[i-1][j] = check_arr[i][j-1] = check_arr[i+1][j] = check_arr[i][j+1] = False\n",
        "      else:\n",
        "        check_arr[i][j] = False\n",
        "\n",
        "  total_peak = 0\n",
        "  for i in range(1, N-1):\n",
        "    for j in range(1, N-1):\n",
        "      if check_arr[i][j]:\n",
        "        total_peak += 1\n",
        "\n",
        "  return total_peak\n",
        "\n",
        "N = int(input())\n",
        "\n",
        "arr = []\n",
        "zero_list = [0 for _ in range(N+2)]\n",
        "arr.append(zero_list)\n",
        "for _ in range(N):\n",
        "  arr.append([0] + list(map(int, input().split())) + [0])\n",
        "arr.append(zero_list)\n",
        "\n",
        "print(Peak(N+2, arr))"
      ]
    }
  ]
}