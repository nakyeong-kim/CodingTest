{
  "nbformat": 4,
  "nbformat_minor": 0,
  "metadata": {
    "colab": {
      "provenance": [],
      "authorship_tag": "ABX9TyNBM+wJJhD9MNHpcGwS4Eut",
      "include_colab_link": true
    },
    "kernelspec": {
      "name": "python3",
      "display_name": "Python 3"
    },
    "language_info": {
      "name": "python"
    }
  },
  "cells": [
    {
      "cell_type": "markdown",
      "metadata": {
        "id": "view-in-github",
        "colab_type": "text"
      },
      "source": [
        "<a href=\"https://colab.research.google.com/github/nakyeong-kim/CodingTest/blob/main/prgms4_%EC%9E%85%EA%B5%AD%EC%8B%AC%EC%82%AC_lv3.ipynb\" target=\"_parent\"><img src=\"https://colab.research.google.com/assets/colab-badge.svg\" alt=\"Open In Colab\"/></a>"
      ]
    },
    {
      "cell_type": "code",
      "execution_count": null,
      "metadata": {
        "id": "RJFCGrd2DG01"
      },
      "outputs": [],
      "source": [
        "# 정확성 테스트 9/9\n",
        "# 이분 탐색 # better code\n",
        "def solution(n, times):\n",
        "    times.sort()\n",
        "    l, r, mid = times[0], times[-1] * n, 0\n",
        "    answer = r\n",
        "\n",
        "    while l <= r:\n",
        "        mid = (l+r)//2\n",
        "        total = 0\n",
        "        for t in times:\n",
        "            total += mid//t\n",
        "\n",
        "        if total >= n:\n",
        "            answer = min(answer, mid)\n",
        "            r = mid-1\n",
        "        elif total < n:\n",
        "            l = mid+1\n",
        "\n",
        "    return answer\n",
        "\n",
        "\n",
        "# 정확성 테스트 9/9\n",
        "# 이분 탐색\n",
        "\n",
        "# def solution(n, times):\n",
        "#     answer = 0\n",
        "#     times.sort()\n",
        "#     l, r, mid = times[0], times[-1] * n, 0\n",
        "\n",
        "#     while l <= r:\n",
        "#         mid = (l+r)//2\n",
        "#         total = 0\n",
        "#         for t in times:\n",
        "#             total += mid//t\n",
        "\n",
        "#         if total == n:\n",
        "#             answer = mid\n",
        "#             r = mid-1\n",
        "#         elif total < n:\n",
        "#             l = mid+1\n",
        "#         elif total > n:\n",
        "#             r = mid-1\n",
        "\n",
        "#     if not answer:\n",
        "#         if total > n:\n",
        "#             answer = mid\n",
        "#         else:\n",
        "#             answer = mid+1\n",
        "#     return answer\n",
        "\n",
        "\n",
        "# 정확성 테스트 3/9 (6개 시간 초과)\n",
        "# 완전 구현\n",
        "# 질문하기의 테스트 케이스 대부분이 처리되는 것으로 보아 정확도는 pass이나 시간 초과가 문제인듯함.\n",
        "\n",
        "# import copy\n",
        "\n",
        "# def solution(n, times):\n",
        "#     answer = 0\n",
        "#     officers = len(times)\n",
        "#     temp_times = copy.deepcopy(times)\n",
        "\n",
        "#     i = 0\n",
        "#     minimum = 0\n",
        "#     while True:\n",
        "#         minimum = min(temp_times)\n",
        "#         answer += minimum\n",
        "#         n -= temp_times.count(minimum)\n",
        "#         if n <= 0:\n",
        "#             return answer\n",
        "#         for officer in range(officers):\n",
        "#             temp_times[officer] -= minimum\n",
        "#             if not temp_times[officer]:\n",
        "#                 temp_times[officer] = times[officer]"
      ]
    }
  ]
}