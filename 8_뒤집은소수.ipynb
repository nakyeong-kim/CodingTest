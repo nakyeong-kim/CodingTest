{
  "nbformat": 4,
  "nbformat_minor": 0,
  "metadata": {
    "colab": {
      "provenance": [],
      "authorship_tag": "ABX9TyMD++N2Yk4dRzgt0LoJYU0Y",
      "include_colab_link": true
    },
    "kernelspec": {
      "name": "python3",
      "display_name": "Python 3"
    },
    "language_info": {
      "name": "python"
    }
  },
  "cells": [
    {
      "cell_type": "markdown",
      "metadata": {
        "id": "view-in-github",
        "colab_type": "text"
      },
      "source": [
        "<a href=\"https://colab.research.google.com/github/nakyeong-kim/CodingTest/blob/main/8_%EB%92%A4%EC%A7%91%EC%9D%80%EC%86%8C%EC%88%98.ipynb\" target=\"_parent\"><img src=\"https://colab.research.google.com/assets/colab-badge.svg\" alt=\"Open In Colab\"/></a>"
      ]
    },
    {
      "cell_type": "code",
      "execution_count": 1,
      "metadata": {
        "colab": {
          "base_uri": "https://localhost:8080/"
        },
        "id": "Ue9javlVYPtl",
        "outputId": "96bb72de-c3e0-4d70-cbc2-f6410d44dff9"
      },
      "outputs": [
        {
          "output_type": "stream",
          "name": "stdout",
          "text": [
            "5\n",
            "32 55 62 3700 250\n",
            "23 73 "
          ]
        }
      ],
      "source": [
        "def reverse(x):\n",
        "  x = str(x)[::-1]\n",
        "  return int(x)\n",
        "\n",
        "def isPrime(x):\n",
        "  if x < 2:\n",
        "    return False\n",
        "\n",
        "  # if x == 2:      # x가 2이면 어차피 하기 for문은 돌지 않으므로 필요없는 코드\n",
        "  #   return True\n",
        "\n",
        "  for i in range(2, x//2+1):   # x의 약수는 x의 절반까지만 존재하게 되어 있으므로\n",
        "    if x % i == 0:\n",
        "      return False\n",
        "  return True\n",
        "\n",
        "\n",
        "N = int(input())\n",
        "num_list = list(map(int, input().split()))\n",
        "\n",
        "for x in num_list:\n",
        "  x = reverse(x)\n",
        "  if isPrime(x):\n",
        "    print(x, end = ' ')"
      ]
    },
    {
      "cell_type": "code",
      "source": [
        "# str 사용 X\n",
        "\n",
        "def reverse(x):\n",
        "  result = 0\n",
        "  while x > 0:\n",
        "    temp = x % 10\n",
        "    result = result * 10 + temp\n",
        "    x = x // 10\n",
        "  return result\n",
        "\n",
        "def isPrime(x):\n",
        "  if x < 2:\n",
        "    return False\n",
        "\n",
        "  for i in range(2, x//2+1):\n",
        "    if x % i == 0:\n",
        "      return False\n",
        "  return True\n",
        "\n",
        "\n",
        "N = int(input())\n",
        "num_list = list(map(int, input().split()))\n",
        "\n",
        "for x in num_list:\n",
        "  x = reverse(x)\n",
        "  if isPrime(x):\n",
        "    print(x, end = ' ')"
      ],
      "metadata": {
        "colab": {
          "base_uri": "https://localhost:8080/"
        },
        "id": "-pJAR0fM4cCC",
        "outputId": "82653efe-fa7e-4393-9199-b6b46560cb30"
      },
      "execution_count": 3,
      "outputs": [
        {
          "output_type": "stream",
          "name": "stdout",
          "text": [
            "5\n",
            "32 55 62 3700 250\n",
            "23 73 "
          ]
        }
      ]
    }
  ]
}