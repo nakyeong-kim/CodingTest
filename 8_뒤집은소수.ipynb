{
  "nbformat": 4,
  "nbformat_minor": 0,
  "metadata": {
    "colab": {
      "provenance": [],
      "authorship_tag": "ABX9TyMxHOGfxQ2zT8i+8z+XZj8w",
      "include_colab_link": true
    },
    "kernelspec": {
      "name": "python3",
      "display_name": "Python 3"
    },
    "language_info": {
      "name": "python"
    }
  },
  "cells": [
    {
      "cell_type": "markdown",
      "metadata": {
        "id": "view-in-github",
        "colab_type": "text"
      },
      "source": [
        "<a href=\"https://colab.research.google.com/github/nakyeong-kim/CodingTest/blob/main/8_%EB%92%A4%EC%A7%91%EC%9D%80%EC%86%8C%EC%88%98.ipynb\" target=\"_parent\"><img src=\"https://colab.research.google.com/assets/colab-badge.svg\" alt=\"Open In Colab\"/></a>"
      ]
    },
    {
      "cell_type": "code",
      "execution_count": 13,
      "metadata": {
        "colab": {
          "base_uri": "https://localhost:8080/"
        },
        "id": "Ue9javlVYPtl",
        "outputId": "72593402-7549-42c4-b397-36d930d8b6b7"
      },
      "outputs": [
        {
          "output_type": "stream",
          "name": "stdout",
          "text": [
            "5\n",
            "32 55 62 3700 250\n",
            "23 73 "
          ]
        }
      ],
      "source": [
        "def reverse(x):\n",
        "  x = str(x)[::-1]\n",
        "  return int(x)\n",
        "\n",
        "def isPrime(x):\n",
        "  if x < 2:\n",
        "    return False\n",
        "\n",
        "  # if x == 2:      # x가 2이면 어차피 하기 for문은 돌지 않으므로 필요없는 코드\n",
        "  #   return True\n",
        "\n",
        "  for i in range(2, x):\n",
        "    if x % i == 0:\n",
        "      return False\n",
        "  return True\n",
        "\n",
        "\n",
        "N = int(input())\n",
        "num_list = list(map(int, input().split()))\n",
        "\n",
        "for i in range(N):\n",
        "  x = num_list[i]\n",
        "  x = reverse(x)\n",
        "  if isPrime(x):\n",
        "    print(x, end = ' ')"
      ]
    },
    {
      "cell_type": "code",
      "source": [
        "for i in range(2, 2):\n",
        "  print(i)"
      ],
      "metadata": {
        "id": "xTw5LwrzdGvR"
      },
      "execution_count": 16,
      "outputs": []
    }
  ]
}