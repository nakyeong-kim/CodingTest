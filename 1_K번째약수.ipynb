{
  "nbformat": 4,
  "nbformat_minor": 0,
  "metadata": {
    "colab": {
      "provenance": [],
      "authorship_tag": "ABX9TyOmzMm9BQr6dILB9pXpQYRN",
      "include_colab_link": true
    },
    "kernelspec": {
      "name": "python3",
      "display_name": "Python 3"
    },
    "language_info": {
      "name": "python"
    }
  },
  "cells": [
    {
      "cell_type": "markdown",
      "metadata": {
        "id": "view-in-github",
        "colab_type": "text"
      },
      "source": [
        "<a href=\"https://colab.research.google.com/github/nakyeong-kim/CodingTest/blob/main/1_K%EB%B2%88%EC%A7%B8%EC%95%BD%EC%88%98.ipynb\" target=\"_parent\"><img src=\"https://colab.research.google.com/assets/colab-badge.svg\" alt=\"Open In Colab\"/></a>"
      ]
    },
    {
      "cell_type": "code",
      "execution_count": 19,
      "metadata": {
        "colab": {
          "base_uri": "https://localhost:8080/"
        },
        "id": "tPs3qBFC2g81",
        "outputId": "c2859fc6-b00e-44e1-83cf-1d57d7ba3890"
      },
      "outputs": [
        {
          "output_type": "stream",
          "name": "stdout",
          "text": [
            "6 3\n",
            "3\n"
          ]
        }
      ],
      "source": [
        "def KthPrimeNumber(N, K):\n",
        "  cnt = 0\n",
        "  for i in range(1, N + 1):\n",
        "    if N % i == 0 :\n",
        "      cnt += 1\n",
        "      if cnt == K:\n",
        "        return i\n",
        "  return -1\n",
        "\n",
        "N, K = map(int, input().split())\n",
        "print(KthPrimeNumber(N, K))"
      ]
    }
  ]
}