{
  "nbformat": 4,
  "nbformat_minor": 0,
  "metadata": {
    "colab": {
      "provenance": [],
      "authorship_tag": "ABX9TyOSj+Mhg318aY9IRcuJAVXU",
      "include_colab_link": true
    },
    "kernelspec": {
      "name": "python3",
      "display_name": "Python 3"
    },
    "language_info": {
      "name": "python"
    }
  },
  "cells": [
    {
      "cell_type": "markdown",
      "metadata": {
        "id": "view-in-github",
        "colab_type": "text"
      },
      "source": [
        "<a href=\"https://colab.research.google.com/github/nakyeong-kim/CodingTest/blob/main/4_9_%EC%95%84%EB%82%98%EA%B7%B8%EB%9E%A8.ipynb\" target=\"_parent\"><img src=\"https://colab.research.google.com/assets/colab-badge.svg\" alt=\"Open In Colab\"/></a>"
      ]
    },
    {
      "cell_type": "code",
      "execution_count": 3,
      "metadata": {
        "colab": {
          "base_uri": "https://localhost:8080/"
        },
        "id": "WGKHOmEcg6LX",
        "outputId": "093c4d25-002d-424f-fb61-ce22c7c87683"
      },
      "outputs": [
        {
          "output_type": "stream",
          "name": "stdout",
          "text": [
            "AbaAeCe\n",
            "baeeACA\n",
            "YES\n"
          ]
        }
      ],
      "source": [
        "def Anagram(word1, word2):\n",
        "  word1_dict = {}\n",
        "  word2_dict = {}\n",
        "  word1_len = len(word1)\n",
        "  word2_len = len(word2)\n",
        "\n",
        "  if word1_len != word2_len:\n",
        "    return \"NO\"\n",
        "\n",
        "  for i in range(word1_len):\n",
        "    if word1[i] not in word1_dict:\n",
        "      word1_dict[word1[i]] = 0\n",
        "    word1_dict[word1[i]] += 1\n",
        "    if word2[i] not in word2_dict:\n",
        "      word2_dict[word2[i]] = 0\n",
        "    word2_dict[word2[i]] += 1\n",
        "\n",
        "  if word1_dict == word2_dict:\n",
        "    return \"YES\"\n",
        "  return \"NO\"\n",
        "\n",
        "word1 = list(input())\n",
        "word2 = list(input())\n",
        "print(Anagram(word1, word2))"
      ]
    }
  ]
}