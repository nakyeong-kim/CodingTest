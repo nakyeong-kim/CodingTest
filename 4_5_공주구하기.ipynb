{
  "nbformat": 4,
  "nbformat_minor": 0,
  "metadata": {
    "colab": {
      "provenance": [],
      "authorship_tag": "ABX9TyOVX4QeNiiQJc+us8BOnhxb",
      "include_colab_link": true
    },
    "kernelspec": {
      "name": "python3",
      "display_name": "Python 3"
    },
    "language_info": {
      "name": "python"
    }
  },
  "cells": [
    {
      "cell_type": "markdown",
      "metadata": {
        "id": "view-in-github",
        "colab_type": "text"
      },
      "source": [
        "<a href=\"https://colab.research.google.com/github/nakyeong-kim/CodingTest/blob/main/4_5_%EA%B3%B5%EC%A3%BC%EA%B5%AC%ED%95%98%EA%B8%B0.ipynb\" target=\"_parent\"><img src=\"https://colab.research.google.com/assets/colab-badge.svg\" alt=\"Open In Colab\"/></a>"
      ]
    },
    {
      "cell_type": "code",
      "execution_count": 12,
      "metadata": {
        "colab": {
          "base_uri": "https://localhost:8080/"
        },
        "id": "mCoj5UxQ_2WT",
        "outputId": "79305b73-d3c2-4d0f-abc5-9d98dec3e862"
      },
      "outputs": [
        {
          "output_type": "stream",
          "name": "stdout",
          "text": [
            "8 3\n",
            "7\n"
          ]
        }
      ],
      "source": [
        "from collections import deque\n",
        "\n",
        "def SavePrincess(N, M):\n",
        "  queue = deque(range(1, N+1))\n",
        "  cnt = 0\n",
        "\n",
        "  while len(queue) > 1:\n",
        "    if cnt == M-1:\n",
        "      queue.popleft()\n",
        "      cnt = 0\n",
        "    queue.append(queue.popleft())\n",
        "    cnt += 1\n",
        "\n",
        "  return queue[0]\n",
        "\n",
        "N, M = map(int, input().split())\n",
        "print(SavePrincess(N, M))"
      ]
    }
  ]
}