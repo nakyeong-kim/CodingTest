{
  "nbformat": 4,
  "nbformat_minor": 0,
  "metadata": {
    "colab": {
      "provenance": [],
      "authorship_tag": "ABX9TyPWeonmBgImIaRg+uybMhDP",
      "include_colab_link": true
    },
    "kernelspec": {
      "name": "python3",
      "display_name": "Python 3"
    },
    "language_info": {
      "name": "python"
    }
  },
  "cells": [
    {
      "cell_type": "markdown",
      "metadata": {
        "id": "view-in-github",
        "colab_type": "text"
      },
      "source": [
        "<a href=\"https://colab.research.google.com/github/nakyeong-kim/CodingTest/blob/main/5_3_%EB%B6%80%EB%B6%84%EC%A7%91%ED%95%A9%EA%B5%AC%ED%95%98%EA%B8%B0(DFS).ipynb\" target=\"_parent\"><img src=\"https://colab.research.google.com/assets/colab-badge.svg\" alt=\"Open In Colab\"/></a>"
      ]
    },
    {
      "cell_type": "code",
      "execution_count": 31,
      "metadata": {
        "id": "YA9awG8ftKkp",
        "colab": {
          "base_uri": "https://localhost:8080/"
        },
        "outputId": "de49b029-2e3c-4f9b-cf76-70931293b30b"
      },
      "outputs": [
        {
          "output_type": "stream",
          "name": "stdout",
          "text": [
            "3\n",
            "1 2 3 \n",
            "1 2 \n",
            "1 3 \n",
            "1 \n",
            "2 3 \n",
            "2 \n",
            "3 \n",
            "\n"
          ]
        }
      ],
      "source": [
        "# 다시 풀 것 (240428)\n",
        "\n",
        "def DFS(v):\n",
        "  if v > N:\n",
        "    for i in range(1, N+1):\n",
        "      if check[i]:\n",
        "        print(i, end=' ')\n",
        "    print()\n",
        "    # return\n",
        "  else:\n",
        "    check[v] = 1\n",
        "    DFS(v+1)\n",
        "    check[v] = 0\n",
        "    DFS(v+1)\n",
        "\n",
        "N = int(input())\n",
        "check = [0] * (N+1)   # check[0]은 쓰이지 않음\n",
        "DFS(1)"
      ]
    }
  ]
}