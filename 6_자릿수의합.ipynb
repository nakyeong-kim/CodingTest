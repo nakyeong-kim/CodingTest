{
  "nbformat": 4,
  "nbformat_minor": 0,
  "metadata": {
    "colab": {
      "provenance": [],
      "authorship_tag": "ABX9TyMgoN/byesUxC6fAl22DnUY",
      "include_colab_link": true
    },
    "kernelspec": {
      "name": "python3",
      "display_name": "Python 3"
    },
    "language_info": {
      "name": "python"
    }
  },
  "cells": [
    {
      "cell_type": "markdown",
      "metadata": {
        "id": "view-in-github",
        "colab_type": "text"
      },
      "source": [
        "<a href=\"https://colab.research.google.com/github/nakyeong-kim/CodingTest/blob/main/6_%EC%9E%90%EB%A6%BF%EC%88%98%EC%9D%98%ED%95%A9.ipynb\" target=\"_parent\"><img src=\"https://colab.research.google.com/assets/colab-badge.svg\" alt=\"Open In Colab\"/></a>"
      ]
    },
    {
      "cell_type": "code",
      "execution_count": null,
      "metadata": {
        "colab": {
          "base_uri": "https://localhost:8080/"
        },
        "id": "B8bUaFPD4qZc",
        "outputId": "dabfc38b-be4b-4841-dddd-89ccd80fd774"
      },
      "outputs": [
        {
          "output_type": "stream",
          "name": "stdout",
          "text": [
            "97\n"
          ]
        }
      ],
      "source": [
        "def digit_sum(x):\n",
        "  for i in range(1, 8):   # 10,000,000 미만의 수만 가능\n",
        "    if x / (10 ** i) < 1:\n",
        "      break\n",
        "  digit = i - 1\n",
        "\n",
        "  result = 0\n",
        "  for i in range(digit, -1, -1):\n",
        "    result += x // (10 ** i)\n",
        "    x = x % (10 ** i)\n",
        "\n",
        "  return result\n",
        "\n",
        "N = int(input())\n",
        "num_list = list(map(int, input().split()))\n",
        "\n",
        "max = 0\n",
        "for x in num_list:\n",
        "  if digit_sum(x) > digit_sum(max):\n",
        "    max = x\n",
        "print(max)"
      ]
    },
    {
      "cell_type": "code",
      "source": [
        "# re1\n",
        "\n",
        "def digit_sum(x):\n",
        "  result = 0\n",
        "  while x > 0:\n",
        "    result += x % 10\n",
        "    x = x // 10\n",
        "  return result\n",
        "\n",
        "N = int(input())\n",
        "num_list = list(map(int, input().split()))\n",
        "\n",
        "max = 0\n",
        "for x in num_list:\n",
        "  if digit_sum(x) > digit_sum(max):\n",
        "    max = x\n",
        "print(max)"
      ],
      "metadata": {
        "colab": {
          "base_uri": "https://localhost:8080/"
        },
        "id": "D5AOvcCF-3-J",
        "outputId": "f739863a-a77d-42b4-96f8-959e3e6269f0"
      },
      "execution_count": null,
      "outputs": [
        {
          "output_type": "stream",
          "name": "stdout",
          "text": [
            "3\n",
            "125 15232 97\n",
            "97\n"
          ]
        }
      ]
    },
    {
      "cell_type": "code",
      "source": [
        "# re2   # 문자열로 변환\n",
        "\n",
        "def digit_sum(x):\n",
        "  result = 0\n",
        "  for i in str(x):\n",
        "    result += int(i)\n",
        "  return result\n",
        "\n",
        "N = int(input())\n",
        "num_list = list(map(int, input().split()))\n",
        "\n",
        "max = 0\n",
        "for x in num_list:\n",
        "  if digit_sum(x) > digit_sum(max):\n",
        "    max = x\n",
        "print(max)"
      ],
      "metadata": {
        "colab": {
          "base_uri": "https://localhost:8080/"
        },
        "id": "62AdheLl_jvO",
        "outputId": "603df3b2-5bb4-4077-8398-5c2a7475d657"
      },
      "execution_count": null,
      "outputs": [
        {
          "output_type": "stream",
          "name": "stdout",
          "text": [
            "3\n",
            "125 15232 97\n",
            "97\n"
          ]
        }
      ]
    }
  ]
}