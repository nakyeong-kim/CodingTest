{
  "nbformat": 4,
  "nbformat_minor": 0,
  "metadata": {
    "colab": {
      "provenance": [],
      "authorship_tag": "ABX9TyNHX9GAAwwDLcQfC5sUzBT6",
      "include_colab_link": true
    },
    "kernelspec": {
      "name": "python3",
      "display_name": "Python 3"
    },
    "language_info": {
      "name": "python"
    }
  },
  "cells": [
    {
      "cell_type": "markdown",
      "metadata": {
        "id": "view-in-github",
        "colab_type": "text"
      },
      "source": [
        "<a href=\"https://colab.research.google.com/github/nakyeong-kim/CodingTest/blob/main/10_%EC%A0%90%EC%88%98%EA%B3%84%EC%82%B0.ipynb\" target=\"_parent\"><img src=\"https://colab.research.google.com/assets/colab-badge.svg\" alt=\"Open In Colab\"/></a>"
      ]
    },
    {
      "cell_type": "code",
      "execution_count": 7,
      "metadata": {
        "colab": {
          "base_uri": "https://localhost:8080/"
        },
        "id": "YdLeaRd7jo9Y",
        "outputId": "1844d1b8-d707-4b16-afcd-3df61127e7c6"
      },
      "outputs": [
        {
          "output_type": "stream",
          "name": "stdout",
          "text": [
            "10\n",
            "1 0 1 1 1 0 0 1 1 0\n",
            "10\n"
          ]
        }
      ],
      "source": [
        "def CalculateScore(N, num_list):\n",
        "  score = 0\n",
        "  cnt = 0\n",
        "\n",
        "  for n in num_list:\n",
        "    if n:\n",
        "      cnt += 1\n",
        "      score += cnt\n",
        "    else:\n",
        "      cnt = 0\n",
        "\n",
        "  return score\n",
        "\n",
        "N = int(input())\n",
        "num_list = list(map(int, input().split()))\n",
        "print(CalculateScore(N, num_list))"
      ]
    }
  ]
}