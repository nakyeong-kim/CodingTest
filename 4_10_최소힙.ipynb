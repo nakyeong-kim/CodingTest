{
  "nbformat": 4,
  "nbformat_minor": 0,
  "metadata": {
    "colab": {
      "provenance": [],
      "authorship_tag": "ABX9TyN+BAyyNsdampssWRfUTotx",
      "include_colab_link": true
    },
    "kernelspec": {
      "name": "python3",
      "display_name": "Python 3"
    },
    "language_info": {
      "name": "python"
    }
  },
  "cells": [
    {
      "cell_type": "markdown",
      "metadata": {
        "id": "view-in-github",
        "colab_type": "text"
      },
      "source": [
        "<a href=\"https://colab.research.google.com/github/nakyeong-kim/CodingTest/blob/main/4_10_%EC%B5%9C%EC%86%8C%ED%9E%99.ipynb\" target=\"_parent\"><img src=\"https://colab.research.google.com/assets/colab-badge.svg\" alt=\"Open In Colab\"/></a>"
      ]
    },
    {
      "cell_type": "code",
      "execution_count": 11,
      "metadata": {
        "colab": {
          "base_uri": "https://localhost:8080/"
        },
        "id": "68PqhPsOI__a",
        "outputId": "4d7b4ffc-9695-48e2-d89e-54c120d39823"
      },
      "outputs": [
        {
          "name": "stdout",
          "output_type": "stream",
          "text": [
            "5\n",
            "3\n",
            "6\n",
            "0\n",
            "3\n",
            "5\n",
            "0\n",
            "5\n",
            "2\n",
            "4\n",
            "0\n",
            "2\n",
            "-1\n"
          ]
        }
      ],
      "source": [
        "import heapq\n",
        "\n",
        "def MinHeap(cmd='None', heap=[], n=-1):\n",
        "\n",
        "  if cmd == 'insert':\n",
        "    heapq.heappush(heap, n)\n",
        "    return\n",
        "\n",
        "  elif cmd == 'print':\n",
        "    if not heap:\n",
        "      return -1\n",
        "    return heapq.heappop(heap)\n",
        "\n",
        "heap = []\n",
        "while True:\n",
        "  n = int(input())\n",
        "  if n == -1:\n",
        "    break\n",
        "  elif n == 0:\n",
        "    print(MinHeap(cmd='print', heap=heap))\n",
        "  else:\n",
        "    MinHeap(cmd='insert', heap=heap, n=n)"
      ]
    }
  ]
}