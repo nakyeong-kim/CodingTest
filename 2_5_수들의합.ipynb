{
  "nbformat": 4,
  "nbformat_minor": 0,
  "metadata": {
    "colab": {
      "provenance": [],
      "authorship_tag": "ABX9TyMe977/a4kajdjP9ewxFr11",
      "include_colab_link": true
    },
    "kernelspec": {
      "name": "python3",
      "display_name": "Python 3"
    },
    "language_info": {
      "name": "python"
    }
  },
  "cells": [
    {
      "cell_type": "markdown",
      "metadata": {
        "id": "view-in-github",
        "colab_type": "text"
      },
      "source": [
        "<a href=\"https://colab.research.google.com/github/nakyeong-kim/CodingTest/blob/main/2_5_%EC%88%98%EB%93%A4%EC%9D%98%ED%95%A9.ipynb\" target=\"_parent\"><img src=\"https://colab.research.google.com/assets/colab-badge.svg\" alt=\"Open In Colab\"/></a>"
      ]
    },
    {
      "cell_type": "code",
      "execution_count": 5,
      "metadata": {
        "id": "CwbihPPkhD9t",
        "colab": {
          "base_uri": "https://localhost:8080/"
        },
        "outputId": "6eaed87b-f521-4549-f183-ec4284a3429d"
      },
      "outputs": [
        {
          "output_type": "stream",
          "name": "stdout",
          "text": [
            "8 3\n",
            "1 2 1 3 1 1 1 2\n",
            "5\n"
          ]
        }
      ],
      "source": [
        "# Time Limit\n",
        "def SumNumbers(N, M, n_list):\n",
        "  result = 0\n",
        "\n",
        "  for i in range(N):\n",
        "    temp = i\n",
        "    temp_sum = 0\n",
        "    while(temp < N):\n",
        "      temp_sum += n_list[temp]\n",
        "      if temp_sum == M:\n",
        "        result += 1\n",
        "        break\n",
        "      elif temp_sum > M:\n",
        "        break\n",
        "      elif temp_sum < M:\n",
        "        temp += 1\n",
        "        continue\n",
        "\n",
        "  return result\n",
        "\n",
        "N, M = map(int, input().split())\n",
        "n_list = list(map(int, input().split()))\n",
        "print(SumNumbers(N, M, n_list))"
      ]
    }
  ]
}