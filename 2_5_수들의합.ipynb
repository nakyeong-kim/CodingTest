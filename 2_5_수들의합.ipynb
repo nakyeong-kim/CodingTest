{
  "nbformat": 4,
  "nbformat_minor": 0,
  "metadata": {
    "colab": {
      "provenance": [],
      "authorship_tag": "ABX9TyM+l0S47ZM2O7kLg1rUhXs2",
      "include_colab_link": true
    },
    "kernelspec": {
      "name": "python3",
      "display_name": "Python 3"
    },
    "language_info": {
      "name": "python"
    }
  },
  "cells": [
    {
      "cell_type": "markdown",
      "metadata": {
        "id": "view-in-github",
        "colab_type": "text"
      },
      "source": [
        "<a href=\"https://colab.research.google.com/github/nakyeong-kim/CodingTest/blob/main/2_5_%EC%88%98%EB%93%A4%EC%9D%98%ED%95%A9.ipynb\" target=\"_parent\"><img src=\"https://colab.research.google.com/assets/colab-badge.svg\" alt=\"Open In Colab\"/></a>"
      ]
    },
    {
      "cell_type": "code",
      "execution_count": null,
      "metadata": {
        "id": "CwbihPPkhD9t"
      },
      "outputs": [],
      "source": [
        "N, M = map(int, input().split())\n",
        "num_list = list(map, int, input().split())\n",
        "sum"
      ]
    },
    {
      "cell_type": "code",
      "source": [
        "print(1)"
      ],
      "metadata": {
        "colab": {
          "base_uri": "https://localhost:8080/"
        },
        "id": "TOAbDRXFizYL",
        "outputId": "340c4f56-2ac4-46d7-8fa7-d37e1cb7dd90"
      },
      "execution_count": 1,
      "outputs": [
        {
          "output_type": "stream",
          "name": "stdout",
          "text": [
            "1\n"
          ]
        }
      ]
    },
    {
      "cell_type": "code",
      "source": [
        "print(\"why\")"
      ],
      "metadata": {
        "id": "Ib4FfrWqkETK",
        "outputId": "07084557-3569-4a2c-b9f9-8e45dd0abf75",
        "colab": {
          "base_uri": "https://localhost:8080/"
        }
      },
      "execution_count": 2,
      "outputs": [
        {
          "output_type": "stream",
          "name": "stdout",
          "text": [
            "why\n"
          ]
        }
      ]
    }
  ]
}