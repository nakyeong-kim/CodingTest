{
  "nbformat": 4,
  "nbformat_minor": 0,
  "metadata": {
    "colab": {
      "provenance": [],
      "authorship_tag": "ABX9TyN2rMz3h6vc3sEBA4Hb9/3y",
      "include_colab_link": true
    },
    "kernelspec": {
      "name": "python3",
      "display_name": "Python 3"
    },
    "language_info": {
      "name": "python"
    }
  },
  "cells": [
    {
      "cell_type": "markdown",
      "metadata": {
        "id": "view-in-github",
        "colab_type": "text"
      },
      "source": [
        "<a href=\"https://colab.research.google.com/github/nakyeong-kim/CodingTest/blob/main/2_5_%EC%88%98%EB%93%A4%EC%9D%98%ED%95%A9.ipynb\" target=\"_parent\"><img src=\"https://colab.research.google.com/assets/colab-badge.svg\" alt=\"Open In Colab\"/></a>"
      ]
    },
    {
      "cell_type": "code",
      "execution_count": 5,
      "metadata": {
        "id": "CwbihPPkhD9t",
        "colab": {
          "base_uri": "https://localhost:8080/"
        },
        "outputId": "6eaed87b-f521-4549-f183-ec4284a3429d"
      },
      "outputs": [
        {
          "output_type": "stream",
          "name": "stdout",
          "text": [
            "8 3\n",
            "1 2 1 3 1 1 1 2\n",
            "5\n"
          ]
        }
      ],
      "source": [
        "# Time Limit\n",
        "def SumNumbers(N, M, n_list):\n",
        "  result = 0\n",
        "\n",
        "  for i in range(N):\n",
        "    temp = i\n",
        "    temp_sum = 0\n",
        "    while(temp < N):\n",
        "      temp_sum += n_list[temp]\n",
        "      if temp_sum == M:\n",
        "        result += 1\n",
        "        break\n",
        "      elif temp_sum > M:\n",
        "        break\n",
        "      elif temp_sum < M:\n",
        "        temp += 1\n",
        "        continue\n",
        "\n",
        "  return result\n",
        "\n",
        "N, M = map(int, input().split())\n",
        "n_list = list(map(int, input().split()))\n",
        "print(SumNumbers(N, M, n_list))"
      ]
    },
    {
      "cell_type": "code",
      "source": [
        "# re  # 계속 처음부터 다시 합하지 않고, result += 1 한 시점부터 이어서 합하면 시간 단축됨   # rt-1 아닌 rt 사용\n",
        "\n",
        "def SumNumbers(N, M, n_list):\n",
        "  result, lt, rt = 0, 0, 1\n",
        "  temp_sum = n_list[lt]\n",
        "\n",
        "  while(lt < N):    # [1] and rt < N 안됨.\n",
        "    if temp_sum < M:\n",
        "      if rt < N:    # [1] 여기서 조건 걸어야 함. 위에서 걸면 마지막 rt+=1 이후 temp_sum>=M인 경우가 누락됨.\n",
        "        temp_sum += n_list[rt]    # [2] 이 if문 안에 있어야 함.\n",
        "        rt += 1\n",
        "      else:\n",
        "        break\n",
        "    elif temp_sum == M:\n",
        "      result += 1\n",
        "      temp_sum -= n_list[lt]\n",
        "      lt += 1\n",
        "    elif temp_sum > M:\n",
        "      temp_sum -= n_list[lt]\n",
        "      lt += 1\n",
        "\n",
        "  return result\n",
        "\n",
        "N, M = map(int, input().split())\n",
        "n_list = list(map(int, input().split()))\n",
        "print(SumNumbers(N, M, n_list))"
      ],
      "metadata": {
        "colab": {
          "base_uri": "https://localhost:8080/"
        },
        "id": "c7cXg2X09Qos",
        "outputId": "3a495a0c-68e3-4705-e89d-d00e3f1b3fcd"
      },
      "execution_count": 20,
      "outputs": [
        {
          "output_type": "stream",
          "name": "stdout",
          "text": [
            "8 3\n",
            "1 2 1 3 1 1 1 2\n",
            "5\n"
          ]
        }
      ]
    },
    {
      "cell_type": "code",
      "source": [
        "# re  # 계속 처음부터 다시 합하지 않고, result += 1 한 시점부터 이어서 합하면 시간 단축됨   # rt 사용하는 것이 더 좋음\n",
        "\n",
        "def SumNumbers(N, M, n_list):\n",
        "  result, temp_sum, lt, rt = 0, 0, 0, 1\n",
        "\n",
        "  while(lt < N):    # [1] and rt-1 < N 안됨.\n",
        "    if lt == rt:\n",
        "      rt += 1\n",
        "    if temp_sum < M:\n",
        "      if rt-1 < N:  # [1] 여기서 조건 걸어야 함. 위에서 걸면 마지막 rt+=1 이후 temp_sum>=M인 경우가 누락됨.\n",
        "        temp_sum += n_list[rt-1]    # [2] 이 if문 안에 있어야 함.\n",
        "        rt += 1\n",
        "      else:\n",
        "        break\n",
        "    elif temp_sum == M:\n",
        "      result += 1\n",
        "      temp_sum -= n_list[lt]\n",
        "      lt += 1\n",
        "    elif temp_sum > M:\n",
        "      temp_sum -= n_list[lt]\n",
        "      lt += 1\n",
        "\n",
        "  return result\n",
        "\n",
        "N, M = map(int, input().split())\n",
        "n_list = list(map(int, input().split()))\n",
        "print(SumNumbers(N, M, n_list))"
      ],
      "metadata": {
        "colab": {
          "base_uri": "https://localhost:8080/"
        },
        "id": "Cya0UkMyxbwe",
        "outputId": "fdd58af7-1b01-4bd3-b9a2-c25d852a15c6"
      },
      "execution_count": 18,
      "outputs": [
        {
          "output_type": "stream",
          "name": "stdout",
          "text": [
            "8 3\n",
            "1 2 1 3 1 1 1 2\n",
            "5\n"
          ]
        }
      ]
    }
  ]
}