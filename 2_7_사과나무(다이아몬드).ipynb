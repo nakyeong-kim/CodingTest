{
  "nbformat": 4,
  "nbformat_minor": 0,
  "metadata": {
    "colab": {
      "provenance": [],
      "authorship_tag": "ABX9TyOv8ShgxW5mH59+uu5T/0wc",
      "include_colab_link": true
    },
    "kernelspec": {
      "name": "python3",
      "display_name": "Python 3"
    },
    "language_info": {
      "name": "python"
    }
  },
  "cells": [
    {
      "cell_type": "markdown",
      "metadata": {
        "id": "view-in-github",
        "colab_type": "text"
      },
      "source": [
        "<a href=\"https://colab.research.google.com/github/nakyeong-kim/CodingTest/blob/main/2_7_%EC%82%AC%EA%B3%BC%EB%82%98%EB%AC%B4(%EB%8B%A4%EC%9D%B4%EC%95%84%EB%AA%AC%EB%93%9C).ipynb\" target=\"_parent\"><img src=\"https://colab.research.google.com/assets/colab-badge.svg\" alt=\"Open In Colab\"/></a>"
      ]
    },
    {
      "cell_type": "code",
      "execution_count": 16,
      "metadata": {
        "id": "jiZRPgeVhewK",
        "colab": {
          "base_uri": "https://localhost:8080/"
        },
        "outputId": "a99ea0bc-199d-45bb-dfe5-2c77f2bb2928"
      },
      "outputs": [
        {
          "output_type": "stream",
          "name": "stdout",
          "text": [
            "5\n",
            "10 13 10 12 15\n",
            "12 39 30 23 11\n",
            "11 25 50 53 15\n",
            "19 27 29 37 27\n",
            "19 13 30 13 19\n",
            "379\n"
          ]
        }
      ],
      "source": [
        "def HarvestAppleTree(N, arr):\n",
        "  result = 0\n",
        "  mid = N // 2\n",
        "  for i in range(N):\n",
        "    if i <= mid:\n",
        "      result += sum(arr[i][mid-i:mid+i+1])\n",
        "    else:\n",
        "      result += sum(arr[i][i-mid:-i+mid])\n",
        "  return result\n",
        "\n",
        "N = int(input())\n",
        "arr = []    # N*N 배열\n",
        "for _ in range(N):\n",
        "  arr.append(list(map(int, input().split())))\n",
        "\n",
        "print(HarvestAppleTree(N, arr))"
      ]
    }
  ]
}