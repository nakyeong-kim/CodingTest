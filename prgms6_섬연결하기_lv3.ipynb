{
  "nbformat": 4,
  "nbformat_minor": 0,
  "metadata": {
    "colab": {
      "provenance": [],
      "authorship_tag": "ABX9TyOJUa2fXaMvvJraMlPwc4eD",
      "include_colab_link": true
    },
    "kernelspec": {
      "name": "python3",
      "display_name": "Python 3"
    },
    "language_info": {
      "name": "python"
    }
  },
  "cells": [
    {
      "cell_type": "markdown",
      "metadata": {
        "id": "view-in-github",
        "colab_type": "text"
      },
      "source": [
        "<a href=\"https://colab.research.google.com/github/nakyeong-kim/CodingTest/blob/main/prgms6_%EC%84%AC%EC%97%B0%EA%B2%B0%ED%95%98%EA%B8%B0_lv3.ipynb\" target=\"_parent\"><img src=\"https://colab.research.google.com/assets/colab-badge.svg\" alt=\"Open In Colab\"/></a>"
      ]
    },
    {
      "cell_type": "code",
      "execution_count": null,
      "metadata": {
        "id": "RJFCGrd2DG01"
      },
      "outputs": [],
      "source": [
        "# 단순 그리디 X   # 크루스칼 / 최소 신장 트리 (MST)"
      ]
    }
  ]
}