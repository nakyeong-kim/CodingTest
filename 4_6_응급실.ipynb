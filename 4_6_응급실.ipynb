{
  "nbformat": 4,
  "nbformat_minor": 0,
  "metadata": {
    "colab": {
      "provenance": [],
      "authorship_tag": "ABX9TyMoY18jCrzVSi5ARZ8mwT+c",
      "include_colab_link": true
    },
    "kernelspec": {
      "name": "python3",
      "display_name": "Python 3"
    },
    "language_info": {
      "name": "python"
    }
  },
  "cells": [
    {
      "cell_type": "markdown",
      "metadata": {
        "id": "view-in-github",
        "colab_type": "text"
      },
      "source": [
        "<a href=\"https://colab.research.google.com/github/nakyeong-kim/CodingTest/blob/main/4_6_%EC%9D%91%EA%B8%89%EC%8B%A4.ipynb\" target=\"_parent\"><img src=\"https://colab.research.google.com/assets/colab-badge.svg\" alt=\"Open In Colab\"/></a>"
      ]
    },
    {
      "cell_type": "code",
      "execution_count": 10,
      "metadata": {
        "colab": {
          "base_uri": "https://localhost:8080/"
        },
        "id": "vsOx7lj2ilQV",
        "outputId": "eee1bac9-f009-4583-bb46-01b55e03abe0"
      },
      "outputs": [
        {
          "output_type": "stream",
          "name": "stdout",
          "text": [
            "5 2\n",
            "60 50 70 80 90\n",
            "3\n"
          ]
        }
      ],
      "source": [
        "from collections import deque\n",
        "\n",
        "def EmergencyRoom(N, M, patient_list):\n",
        "  patient_dict = {}\n",
        "  for i in range(N):\n",
        "    patient_dict[i] = patient_list[i]\n",
        "\n",
        "  cnt = 0\n",
        "  queue = deque(range(N))\n",
        "\n",
        "  while True:\n",
        "    risk = queue.popleft()\n",
        "    for q in queue:\n",
        "      if patient_dict[risk] < patient_dict[q]:\n",
        "        queue.append(risk)\n",
        "        break\n",
        "    if risk != queue[-1]:\n",
        "      cnt += 1\n",
        "      if risk == M:\n",
        "        break\n",
        "\n",
        "  return cnt\n",
        "\n",
        "\n",
        "N, M = map(int, input().split())\n",
        "patient_list = list(map(int, input().split()))\n",
        "print(EmergencyRoom(N, M, patient_list))"
      ]
    }
  ]
}