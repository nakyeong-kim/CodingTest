{
  "nbformat": 4,
  "nbformat_minor": 0,
  "metadata": {
    "colab": {
      "provenance": [],
      "authorship_tag": "ABX9TyPtUJ6fl+eh6uKbq7xp+zpt",
      "include_colab_link": true
    },
    "kernelspec": {
      "name": "python3",
      "display_name": "Python 3"
    },
    "language_info": {
      "name": "python"
    }
  },
  "cells": [
    {
      "cell_type": "markdown",
      "metadata": {
        "id": "view-in-github",
        "colab_type": "text"
      },
      "source": [
        "<a href=\"https://colab.research.google.com/github/nakyeong-kim/CodingTest/blob/main/2_11_%EA%B2%A9%EC%9E%90%ED%8C%90%ED%9A%8C%EB%AC%B8%EC%88%98.ipynb\" target=\"_parent\"><img src=\"https://colab.research.google.com/assets/colab-badge.svg\" alt=\"Open In Colab\"/></a>"
      ]
    },
    {
      "cell_type": "code",
      "execution_count": 8,
      "metadata": {
        "colab": {
          "base_uri": "https://localhost:8080/"
        },
        "id": "PHctl713cHlA",
        "outputId": "37da0e09-192f-4794-d4e9-db41e4b49b5a"
      },
      "outputs": [
        {
          "output_type": "stream",
          "name": "stdout",
          "text": [
            "2 4 1 5 3 2 6\n",
            "3 5 1 8 7 1 7\n",
            "8 3 2 7 1 3 8\n",
            "6 1 2 3 2 1 1 \n",
            "1 3 1 3 5 3 2\n",
            "1 1 2 5 6 5 2\n",
            "1 2 2 2 2 1 5\n",
            "3\n"
          ]
        }
      ],
      "source": [
        "def GridPalindromicStrings(grid):\n",
        "  result = 0\n",
        "\n",
        "  for i in range(7):\n",
        "    for j in range(3):\n",
        "      if grid[i][j] == grid[i][j+4] and grid[i][j+1] == grid[i][j+3] \\\n",
        "        or grid[j][i] == grid[j+4][i] and grid[j+1][i] == grid[j+3][i]:\n",
        "        result += 1\n",
        "\n",
        "  return result\n",
        "\n",
        "grid = []\n",
        "for _ in range(7):\n",
        "  grid.append(list(map(int, input().split())))\n",
        "print(GridPalindromicStrings(grid))"
      ]
    }
  ]
}