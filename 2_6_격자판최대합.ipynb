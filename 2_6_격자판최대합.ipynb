{
  "nbformat": 4,
  "nbformat_minor": 0,
  "metadata": {
    "colab": {
      "provenance": [],
      "authorship_tag": "ABX9TyPBBGm0HqOXhw3DliEXjBbt",
      "include_colab_link": true
    },
    "kernelspec": {
      "name": "python3",
      "display_name": "Python 3"
    },
    "language_info": {
      "name": "python"
    }
  },
  "cells": [
    {
      "cell_type": "markdown",
      "metadata": {
        "id": "view-in-github",
        "colab_type": "text"
      },
      "source": [
        "<a href=\"https://colab.research.google.com/github/nakyeong-kim/CodingTest/blob/main/2_6_%EA%B2%A9%EC%9E%90%ED%8C%90%EC%B5%9C%EB%8C%80%ED%95%A9.ipynb\" target=\"_parent\"><img src=\"https://colab.research.google.com/assets/colab-badge.svg\" alt=\"Open In Colab\"/></a>"
      ]
    },
    {
      "cell_type": "code",
      "execution_count": 1,
      "metadata": {
        "id": "zRkyz4VjhWN-",
        "colab": {
          "base_uri": "https://localhost:8080/"
        },
        "outputId": "b8488fcb-a070-408c-9b36-c43ccc5c29ca"
      },
      "outputs": [
        {
          "output_type": "stream",
          "name": "stdout",
          "text": [
            "5\n",
            "10 13 10 12 15\n",
            "12 39 30 23 11\n",
            "11 25 50 53 15\n",
            "19 27 29 37 27\n",
            "19 13 30 13 19\n",
            "155\n"
          ]
        }
      ],
      "source": [
        "def GridMaxSum(N, arr):\n",
        "  max_sum = -1\n",
        "\n",
        "  sum_dia_1 = 0\n",
        "  sum_dia_2 = 0\n",
        "  for i in range(N):\n",
        "    sum_row = 0\n",
        "    sum_col = 0\n",
        "    for j in range(N):\n",
        "      sum_row += arr[i][j]\n",
        "      sum_col += arr[j][i]\n",
        "      if i == j:\n",
        "        sum_dia_1 += arr[i][j]\n",
        "      if i + j == N - 1:\n",
        "        sum_dia_2 += arr[i][j]\n",
        "    if max_sum < sum_row:\n",
        "      max_sum = sum_row\n",
        "    if max_sum < sum_col:\n",
        "      max_sum = sum_col\n",
        "\n",
        "  if max_sum < sum_dia_1:\n",
        "    max_sum = sum_dia_1\n",
        "  if max_sum < sum_dia_2:\n",
        "    max_sum = sum_dia_2\n",
        "\n",
        "  return max_sum\n",
        "\n",
        "N = int(input())\n",
        "arr = []    # N*N 배열\n",
        "for _ in range(N):\n",
        "  arr.append(list(map(int, input().split())))\n",
        "\n",
        "print(GridMaxSum(N, arr))"
      ]
    }
  ]
}