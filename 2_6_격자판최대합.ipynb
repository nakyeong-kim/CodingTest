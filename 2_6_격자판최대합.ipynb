{
  "nbformat": 4,
  "nbformat_minor": 0,
  "metadata": {
    "colab": {
      "provenance": [],
      "authorship_tag": "ABX9TyO/X074Vv9aWcj6FttsCKXm",
      "include_colab_link": true
    },
    "kernelspec": {
      "name": "python3",
      "display_name": "Python 3"
    },
    "language_info": {
      "name": "python"
    }
  },
  "cells": [
    {
      "cell_type": "markdown",
      "metadata": {
        "id": "view-in-github",
        "colab_type": "text"
      },
      "source": [
        "<a href=\"https://colab.research.google.com/github/nakyeong-kim/CodingTest/blob/main/2_6_%EA%B2%A9%EC%9E%90%ED%8C%90%EC%B5%9C%EB%8C%80%ED%95%A9.ipynb\" target=\"_parent\"><img src=\"https://colab.research.google.com/assets/colab-badge.svg\" alt=\"Open In Colab\"/></a>"
      ]
    },
    {
      "cell_type": "code",
      "execution_count": null,
      "metadata": {
        "id": "zRkyz4VjhWN-"
      },
      "outputs": [],
      "source": [
        "def GridMaxSum(N, arr):\n",
        "  for i in\n",
        "\n",
        "N = int(input())\n",
        "arr = []    # N*N 배열\n",
        "for _ in range(N):\n",
        "  arr.append(list(map(int, input().split())))"
      ]
    }
  ]
}