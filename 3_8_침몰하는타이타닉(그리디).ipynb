{
  "nbformat": 4,
  "nbformat_minor": 0,
  "metadata": {
    "colab": {
      "provenance": [],
      "authorship_tag": "ABX9TyMSgnZtFj+uSw9txhfsJjLM",
      "include_colab_link": true
    },
    "kernelspec": {
      "name": "python3",
      "display_name": "Python 3"
    },
    "language_info": {
      "name": "python"
    }
  },
  "cells": [
    {
      "cell_type": "markdown",
      "metadata": {
        "id": "view-in-github",
        "colab_type": "text"
      },
      "source": [
        "<a href=\"https://colab.research.google.com/github/nakyeong-kim/CodingTest/blob/main/3_8_%EC%B9%A8%EB%AA%B0%ED%95%98%EB%8A%94%ED%83%80%EC%9D%B4%ED%83%80%EB%8B%89(%EA%B7%B8%EB%A6%AC%EB%94%94).ipynb\" target=\"_parent\"><img src=\"https://colab.research.google.com/assets/colab-badge.svg\" alt=\"Open In Colab\"/></a>"
      ]
    },
    {
      "cell_type": "code",
      "execution_count": 15,
      "metadata": {
        "id": "Vn6THiimyyRU",
        "colab": {
          "base_uri": "https://localhost:8080/"
        },
        "outputId": "2109a165-cf33-4711-d9d4-43fbc1fce246"
      },
      "outputs": [
        {
          "output_type": "stream",
          "name": "stdout",
          "text": [
            "10 150\n",
            "86 95 107 67 38 49 116 22 78 53 \n",
            "5\n"
          ]
        }
      ],
      "source": [
        "def MinOfLifeboats(N, M, weight_list):\n",
        "  weight_list.sort()\n",
        "  result = 0\n",
        "\n",
        "  for i, weight in enumerate(weight_list):\n",
        "    if i == len(weight_list)-1:   # 마지막에 혼자 남으면    # 이 if문은 가장 위에 있어야 함\n",
        "      result += 1\n",
        "      break\n",
        "    for j in range(i+1, len(weight_list)):\n",
        "      if weight + weight_list[j] == M or (weight + weight_list[j] < M and j == len(weight_list)-1):\n",
        "        result += 1\n",
        "        weight_list.remove(weight_list[j])\n",
        "        break\n",
        "      elif weight + weight_list[j] > M:\n",
        "        result += 1\n",
        "        if j != i+1:\n",
        "          weight_list.remove(weight_list[j-1])\n",
        "        break\n",
        "\n",
        "  return result\n",
        "\n",
        "\n",
        "N, M = map(int, input().split())\n",
        "weight_list = list(map(int, input().split()))\n",
        "\n",
        "print(MinOfLifeboats(N, M, weight_list))"
      ]
    }
  ]
}