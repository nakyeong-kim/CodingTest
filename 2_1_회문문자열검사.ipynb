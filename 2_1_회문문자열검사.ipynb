{
  "nbformat": 4,
  "nbformat_minor": 0,
  "metadata": {
    "colab": {
      "provenance": [],
      "authorship_tag": "ABX9TyNnsia5vSxYLBB2Bz7Exa6u",
      "include_colab_link": true
    },
    "kernelspec": {
      "name": "python3",
      "display_name": "Python 3"
    },
    "language_info": {
      "name": "python"
    }
  },
  "cells": [
    {
      "cell_type": "markdown",
      "metadata": {
        "id": "view-in-github",
        "colab_type": "text"
      },
      "source": [
        "<a href=\"https://colab.research.google.com/github/nakyeong-kim/CodingTest/blob/main/2_1_%ED%9A%8C%EB%AC%B8%EB%AC%B8%EC%9E%90%EC%97%B4%EA%B2%80%EC%82%AC.ipynb\" target=\"_parent\"><img src=\"https://colab.research.google.com/assets/colab-badge.svg\" alt=\"Open In Colab\"/></a>"
      ]
    },
    {
      "cell_type": "code",
      "execution_count": 6,
      "metadata": {
        "colab": {
          "base_uri": "https://localhost:8080/"
        },
        "id": "CbwRbBAUt2Wy",
        "outputId": "0905769f-b5a6-4bbd-86f7-9078882c4d89"
      },
      "outputs": [
        {
          "output_type": "stream",
          "name": "stdout",
          "text": [
            "5\n",
            "level\n",
            "#1 YES\n",
            "moon\n",
            "#2 NO\n",
            "abcba\n",
            "#3 YES\n",
            "soon\n",
            "#4 NO\n",
            "gooG\n",
            "#5 YES\n"
          ]
        }
      ],
      "source": [
        "def CheckPalindromicStrings(strings):\n",
        "  length = len(strings)\n",
        "  for i in range(length//2):\n",
        "    if strings[i] != strings[length-i-1]:\n",
        "      return False\n",
        "  return True\n",
        "\n",
        "N = int(input())\n",
        "for i in range(1, N+1):\n",
        "  if CheckPalindromicStrings(input().lower()):\n",
        "    print(f\"#{i} YES\")\n",
        "  else:\n",
        "    print(f\"#{i} NO\")"
      ]
    }
  ]
}