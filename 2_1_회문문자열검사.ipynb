{
  "nbformat": 4,
  "nbformat_minor": 0,
  "metadata": {
    "colab": {
      "provenance": [],
      "authorship_tag": "ABX9TyNdTLd5eOHU6wiejTh7vFr7",
      "include_colab_link": true
    },
    "kernelspec": {
      "name": "python3",
      "display_name": "Python 3"
    },
    "language_info": {
      "name": "python"
    }
  },
  "cells": [
    {
      "cell_type": "markdown",
      "metadata": {
        "id": "view-in-github",
        "colab_type": "text"
      },
      "source": [
        "<a href=\"https://colab.research.google.com/github/nakyeong-kim/CodingTest/blob/main/2_1_%ED%9A%8C%EB%AC%B8%EB%AC%B8%EC%9E%90%EC%97%B4%EA%B2%80%EC%82%AC.ipynb\" target=\"_parent\"><img src=\"https://colab.research.google.com/assets/colab-badge.svg\" alt=\"Open In Colab\"/></a>"
      ]
    },
    {
      "cell_type": "code",
      "execution_count": 7,
      "metadata": {
        "colab": {
          "base_uri": "https://localhost:8080/"
        },
        "id": "CbwRbBAUt2Wy",
        "outputId": "53ed905e-44df-46d9-e066-08c65f9d7a7d"
      },
      "outputs": [
        {
          "output_type": "stream",
          "name": "stdout",
          "text": [
            "5\n",
            "level\n",
            "#1 YES\n",
            "moon\n",
            "#2 NO\n",
            "abcba\n",
            "#3 YES\n",
            "soon\n",
            "#4 NO\n",
            "gooG\n",
            "#5 YES\n"
          ]
        }
      ],
      "source": [
        "def CheckPalindromicStrings(strings):\n",
        "  length = len(strings)\n",
        "  for i in range(length//2):\n",
        "    if strings[i] != strings[length-i-1]:\n",
        "      return \"NO\"\n",
        "  return \"YES\"\n",
        "\n",
        "N = int(input())\n",
        "for i in range(1, N+1):\n",
        "  print(f\"#{i} {CheckPalindromicStrings(input().lower())}\")"
      ]
    },
    {
      "cell_type": "code",
      "source": [
        "# pythonic code\n",
        "\n",
        "def CheckPalindromicStrings(strings):\n",
        "  if strings == strings[::-1]:\n",
        "    return \"YES\"\n",
        "  return \"NO\"\n",
        "\n",
        "N = int(input())\n",
        "for i in range(1, N+1):\n",
        "  print(f\"#{i} {CheckPalindromicStrings(input().lower())}\")"
      ],
      "metadata": {
        "colab": {
          "base_uri": "https://localhost:8080/"
        },
        "id": "76BYj6Af0Q-4",
        "outputId": "c799040e-ce84-48cc-f7b9-98f29aeec6d4"
      },
      "execution_count": 8,
      "outputs": [
        {
          "output_type": "stream",
          "name": "stdout",
          "text": [
            "5\n",
            "level\n",
            "#1 YES\n",
            "moon\n",
            "#2 NO\n",
            "abcba\n",
            "#3 YES\n",
            "soon\n",
            "#4 NO\n",
            "gooG\n",
            "#5 YES\n"
          ]
        }
      ]
    }
  ]
}