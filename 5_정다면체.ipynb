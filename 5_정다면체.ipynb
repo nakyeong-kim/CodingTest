{
  "nbformat": 4,
  "nbformat_minor": 0,
  "metadata": {
    "colab": {
      "provenance": [],
      "authorship_tag": "ABX9TyPVFRH6F2PtwZOtI8TFdRxv",
      "include_colab_link": true
    },
    "kernelspec": {
      "name": "python3",
      "display_name": "Python 3"
    },
    "language_info": {
      "name": "python"
    }
  },
  "cells": [
    {
      "cell_type": "markdown",
      "metadata": {
        "id": "view-in-github",
        "colab_type": "text"
      },
      "source": [
        "<a href=\"https://colab.research.google.com/github/nakyeong-kim/CodingTest/blob/main/5_%EC%A0%95%EB%8B%A4%EB%A9%B4%EC%B2%B4.ipynb\" target=\"_parent\"><img src=\"https://colab.research.google.com/assets/colab-badge.svg\" alt=\"Open In Colab\"/></a>"
      ]
    },
    {
      "cell_type": "code",
      "execution_count": 3,
      "metadata": {
        "colab": {
          "base_uri": "https://localhost:8080/"
        },
        "id": "uDPbr7e9xqu5",
        "outputId": "e38caf9a-f9cf-4e93-a9df-02d261b43755"
      },
      "outputs": [
        {
          "output_type": "stream",
          "name": "stdout",
          "text": [
            "4 6\n",
            "5 6 7 "
          ]
        }
      ],
      "source": [
        "def RegularPolyhedron(N, M):\n",
        "  num_dict = {}\n",
        "  for n in range(1, N + M + 1):\n",
        "    num_dict[n] = 0\n",
        "\n",
        "  for i in range(1, N + 1):\n",
        "    for j in range(1, M + 1):\n",
        "      num_dict[i + j] += 1\n",
        "\n",
        "  num_list = list(num_dict.items())\n",
        "  num_list.sort(key = lambda x:x[1], reverse = True)\n",
        "\n",
        "  result_list = [num_list[0][0]]\n",
        "  for i in range(1, N + M):\n",
        "    if num_list[i][1] == num_list[0][1]:\n",
        "      result_list.append(num_list[i][0])\n",
        "    else:\n",
        "      break\n",
        "\n",
        "  return result_list\n",
        "\n",
        "N, M = map(int, input().split())\n",
        "result_list = RegularPolyhedron(N, M)\n",
        "for result in result_list:\n",
        "  print(result, end = ' ')"
      ]
    }
  ]
}