{
  "nbformat": 4,
  "nbformat_minor": 0,
  "metadata": {
    "colab": {
      "provenance": [],
      "authorship_tag": "ABX9TyNQHJgG/ue9blvQjJzjS8bi",
      "include_colab_link": true
    },
    "kernelspec": {
      "name": "python3",
      "display_name": "Python 3"
    },
    "language_info": {
      "name": "python"
    }
  },
  "cells": [
    {
      "cell_type": "markdown",
      "metadata": {
        "id": "view-in-github",
        "colab_type": "text"
      },
      "source": [
        "<a href=\"https://colab.research.google.com/github/nakyeong-kim/CodingTest/blob/main/3_3_%EB%AE%A4%EC%A7%81%EB%B9%84%EB%94%94%EC%98%A4(%EA%B2%B0%EC%A0%95%EC%95%8C%EA%B3%A0%EB%A6%AC%EC%A6%98).ipynb\" target=\"_parent\"><img src=\"https://colab.research.google.com/assets/colab-badge.svg\" alt=\"Open In Colab\"/></a>"
      ]
    },
    {
      "cell_type": "code",
      "execution_count": 14,
      "metadata": {
        "id": "TSw0N4OvyoZs",
        "colab": {
          "base_uri": "https://localhost:8080/"
        },
        "outputId": "d0643dd4-b6fd-46f4-dd54-5ee96c167018"
      },
      "outputs": [
        {
          "output_type": "stream",
          "name": "stdout",
          "text": [
            "9 3\n",
            "1 2 3 4 5 6 7 8 9\n",
            "17\n"
          ]
        }
      ],
      "source": [
        "def MusicVideo(M, music_list):\n",
        "  lt = max(music_list)\n",
        "  rt = sum(music_list)\n",
        "  result = 0\n",
        "\n",
        "  while lt <= rt:\n",
        "\n",
        "    cnt = 1\n",
        "    temp_sum = 0\n",
        "    mid = (lt+rt)//2\n",
        "    for music in music_list:\n",
        "      if temp_sum + music > mid:\n",
        "        cnt += 1\n",
        "        temp_sum = music\n",
        "      else:\n",
        "        temp_sum += music\n",
        "\n",
        "    if cnt <= M:    # DVD 개수인 M과 같거나 작게 나눠진 경우\n",
        "      result = mid\n",
        "      rt = mid - 1\n",
        "    else:           # DVD 개수인 M보다 많이 나눠진 경우\n",
        "      lt = mid + 1\n",
        "\n",
        "  return result\n",
        "\n",
        "N, M = map(int, input().split())\n",
        "music_list = list(map(int, input().split()))\n",
        "\n",
        "print(MusicVideo(M, music_list))"
      ]
    }
  ]
}