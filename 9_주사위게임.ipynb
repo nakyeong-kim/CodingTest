{
  "nbformat": 4,
  "nbformat_minor": 0,
  "metadata": {
    "colab": {
      "provenance": [],
      "authorship_tag": "ABX9TyM+n94vS2GrU4zgQ2TIIXLS",
      "include_colab_link": true
    },
    "kernelspec": {
      "name": "python3",
      "display_name": "Python 3"
    },
    "language_info": {
      "name": "python"
    }
  },
  "cells": [
    {
      "cell_type": "markdown",
      "metadata": {
        "id": "view-in-github",
        "colab_type": "text"
      },
      "source": [
        "<a href=\"https://colab.research.google.com/github/nakyeong-kim/CodingTest/blob/main/9_%EC%A3%BC%EC%82%AC%EC%9C%84%EA%B2%8C%EC%9E%84.ipynb\" target=\"_parent\"><img src=\"https://colab.research.google.com/assets/colab-badge.svg\" alt=\"Open In Colab\"/></a>"
      ]
    },
    {
      "cell_type": "code",
      "execution_count": 8,
      "metadata": {
        "colab": {
          "base_uri": "https://localhost:8080/"
        },
        "id": "Thrxdny2dnBr",
        "outputId": "91d00809-3775-4c7b-ad08-63f34cc821e2"
      },
      "outputs": [
        {
          "output_type": "stream",
          "name": "stdout",
          "text": [
            "3\n",
            "3 3 6\n",
            "2 2 2\n",
            "6 2 5\n",
            "12000\n"
          ]
        }
      ],
      "source": [
        "def CalculatePrize(N, arr):\n",
        "  prize_list = []\n",
        "  for i in range(N):\n",
        "    if arr[i][0] == arr[i][1]:\n",
        "      if arr[i][1] == arr[i][2]:  # 규칙1 : 같은 눈 3개\n",
        "        prize_list.append(10000 + arr[i][0] * 1000)\n",
        "      else:   # 규칙2 : 같은 눈 2개\n",
        "        prize_list.append(1000 + arr[i][0] * 100)\n",
        "    elif arr[i][1] == arr[i][2]:  # 규칙2 : 같은 눈 2개\n",
        "      prize_list.append(1000 + arr[i][1] * 100)\n",
        "    else:   # 규칙3 : 모두 다른 눈\n",
        "      prize_list.append(sorted(arr[i])[-1] * 100)\n",
        "\n",
        "  return sorted(prize_list)[-1]\n",
        "\n",
        "N = int(input())\n",
        "arr = [list(map(int, input().split())) for _ in range(N)]\n",
        "print(CalculatePrize(N, arr))"
      ]
    }
  ]
}