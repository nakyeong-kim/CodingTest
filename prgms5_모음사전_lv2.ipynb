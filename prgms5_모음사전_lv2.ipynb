{
  "nbformat": 4,
  "nbformat_minor": 0,
  "metadata": {
    "colab": {
      "provenance": [],
      "authorship_tag": "ABX9TyNsUKP0Yq/NuLA1yz6H2l+5",
      "include_colab_link": true
    },
    "kernelspec": {
      "name": "python3",
      "display_name": "Python 3"
    },
    "language_info": {
      "name": "python"
    }
  },
  "cells": [
    {
      "cell_type": "markdown",
      "metadata": {
        "id": "view-in-github",
        "colab_type": "text"
      },
      "source": [
        "<a href=\"https://colab.research.google.com/github/nakyeong-kim/CodingTest/blob/main/prgms5_%EB%AA%A8%EC%9D%8C%EC%82%AC%EC%A0%84_lv2.ipynb\" target=\"_parent\"><img src=\"https://colab.research.google.com/assets/colab-badge.svg\" alt=\"Open In Colab\"/></a>"
      ]
    },
    {
      "cell_type": "code",
      "execution_count": null,
      "metadata": {
        "id": "RJFCGrd2DG01"
      },
      "outputs": [],
      "source": [
        "# 정확성 테스트 40/40\n",
        "def solution(word):\n",
        "    dictionary = {'A':1, 'E':2, 'I':3, 'O':4, 'U':5}\n",
        "    answer = 0\n",
        "    for i, w in enumerate(word):\n",
        "        answer += dictionary[w] + sum([(dictionary[w]-1) * (5**j) for j in range(1, 5-i)])\n",
        "    return answer"
      ]
    }
  ]
}