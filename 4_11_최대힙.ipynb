{
  "nbformat": 4,
  "nbformat_minor": 0,
  "metadata": {
    "colab": {
      "provenance": [],
      "authorship_tag": "ABX9TyPqRuU9KZvOWdAXNv9aFvSD",
      "include_colab_link": true
    },
    "kernelspec": {
      "name": "python3",
      "display_name": "Python 3"
    },
    "language_info": {
      "name": "python"
    }
  },
  "cells": [
    {
      "cell_type": "markdown",
      "metadata": {
        "id": "view-in-github",
        "colab_type": "text"
      },
      "source": [
        "<a href=\"https://colab.research.google.com/github/nakyeong-kim/CodingTest/blob/main/4_11_%EC%B5%9C%EB%8C%80%ED%9E%99.ipynb\" target=\"_parent\"><img src=\"https://colab.research.google.com/assets/colab-badge.svg\" alt=\"Open In Colab\"/></a>"
      ]
    },
    {
      "cell_type": "code",
      "execution_count": 1,
      "metadata": {
        "colab": {
          "base_uri": "https://localhost:8080/"
        },
        "id": "68PqhPsOI__a",
        "outputId": "c18c5d65-2fae-49da-a675-abd0e493147a"
      },
      "outputs": [
        {
          "name": "stdout",
          "output_type": "stream",
          "text": [
            "5\n",
            "3\n",
            "6\n",
            "0\n",
            "6\n",
            "5\n",
            "0\n",
            "5\n",
            "2\n",
            "4\n",
            "0\n",
            "5\n",
            "-1\n"
          ]
        }
      ],
      "source": [
        "import heapq\n",
        "\n",
        "def MaxHeap(cmd='None', heap=[], n=-1):\n",
        "\n",
        "  if cmd == 'insert':\n",
        "    heapq.heappush(heap, -n)\n",
        "    return\n",
        "\n",
        "  elif cmd == 'print':\n",
        "    if not heap:\n",
        "      return -1\n",
        "    return -heapq.heappop(heap)\n",
        "\n",
        "heap = []\n",
        "while True:\n",
        "  n = int(input())\n",
        "  if n == -1:\n",
        "    break\n",
        "  elif n == 0:\n",
        "    print(MaxHeap(cmd='print', heap=heap))\n",
        "  else:\n",
        "    MaxHeap(cmd='insert', heap=heap, n=n)"
      ]
    }
  ]
}