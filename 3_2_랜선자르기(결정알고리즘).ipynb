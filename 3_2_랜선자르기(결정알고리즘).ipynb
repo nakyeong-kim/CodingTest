{
  "nbformat": 4,
  "nbformat_minor": 0,
  "metadata": {
    "colab": {
      "provenance": [],
      "authorship_tag": "ABX9TyPglmcE5QheCz3sCbSOvq0R",
      "include_colab_link": true
    },
    "kernelspec": {
      "name": "python3",
      "display_name": "Python 3"
    },
    "language_info": {
      "name": "python"
    }
  },
  "cells": [
    {
      "cell_type": "markdown",
      "metadata": {
        "id": "view-in-github",
        "colab_type": "text"
      },
      "source": [
        "<a href=\"https://colab.research.google.com/github/nakyeong-kim/CodingTest/blob/main/3_2_%EB%9E%9C%EC%84%A0%EC%9E%90%EB%A5%B4%EA%B8%B0(%EA%B2%B0%EC%A0%95%EC%95%8C%EA%B3%A0%EB%A6%AC%EC%A6%98).ipynb\" target=\"_parent\"><img src=\"https://colab.research.google.com/assets/colab-badge.svg\" alt=\"Open In Colab\"/></a>"
      ]
    },
    {
      "cell_type": "code",
      "execution_count": 3,
      "metadata": {
        "id": "LSlr3JMMyhpA",
        "colab": {
          "base_uri": "https://localhost:8080/"
        },
        "outputId": "0c3e5b54-2efc-4dbd-adb9-4359518d3cc8"
      },
      "outputs": [
        {
          "output_type": "stream",
          "name": "stdout",
          "text": [
            "4 11\n",
            "802\n",
            "743\n",
            "457\n",
            "539\n",
            "200\n"
          ]
        }
      ],
      "source": [
        "def CutLancable(N, lancable_list):\n",
        "  lt = 1\n",
        "  rt = max(lancable_list)\n",
        "  result = 0\n",
        "\n",
        "  while lt <= rt:\n",
        "    cnt = 0\n",
        "    mid = (lt+rt)//2\n",
        "    for lancable in lancable_list:\n",
        "      cnt += lancable // mid\n",
        "    if cnt >= N:\n",
        "      result = mid\n",
        "      lt = mid + 1\n",
        "    else:\n",
        "      rt = mid - 1\n",
        "\n",
        "  return result\n",
        "\n",
        "K, N = map(int, input().split())\n",
        "lancable_list = []\n",
        "for _ in range(K):\n",
        "  lancable_list.append(int(input()))\n",
        "\n",
        "print(CutLancable(N, lancable_list))"
      ]
    }
  ]
}