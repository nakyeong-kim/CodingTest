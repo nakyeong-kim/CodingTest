{
  "nbformat": 4,
  "nbformat_minor": 0,
  "metadata": {
    "colab": {
      "provenance": [],
      "authorship_tag": "ABX9TyP3/sC/MW1uK9zJhotAGjWW",
      "include_colab_link": true
    },
    "kernelspec": {
      "name": "python3",
      "display_name": "Python 3"
    },
    "language_info": {
      "name": "python"
    }
  },
  "cells": [
    {
      "cell_type": "markdown",
      "metadata": {
        "id": "view-in-github",
        "colab_type": "text"
      },
      "source": [
        "<a href=\"https://colab.research.google.com/github/nakyeong-kim/CodingTest/blob/main/2_10_%EC%8A%A4%EB%8F%84%EC%BF%A0%EA%B2%80%EC%82%AC.ipynb\" target=\"_parent\"><img src=\"https://colab.research.google.com/assets/colab-badge.svg\" alt=\"Open In Colab\"/></a>"
      ]
    },
    {
      "cell_type": "code",
      "source": [
        "def CheckSudoku():\n",
        "\n",
        "\n",
        "arr = []\n",
        "for _ in range(9):\n",
        "  arr.append(list(map(int, input().split())))"
      ],
      "metadata": {
        "id": "T4GJboeY_Lvn"
      },
      "execution_count": null,
      "outputs": []
    }
  ]
}