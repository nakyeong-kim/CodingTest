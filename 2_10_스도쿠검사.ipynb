{
  "nbformat": 4,
  "nbformat_minor": 0,
  "metadata": {
    "colab": {
      "provenance": [],
      "authorship_tag": "ABX9TyPi3v4SrfhOUpn8HPLX+nY2",
      "include_colab_link": true
    },
    "kernelspec": {
      "name": "python3",
      "display_name": "Python 3"
    },
    "language_info": {
      "name": "python"
    }
  },
  "cells": [
    {
      "cell_type": "markdown",
      "metadata": {
        "id": "view-in-github",
        "colab_type": "text"
      },
      "source": [
        "<a href=\"https://colab.research.google.com/github/nakyeong-kim/CodingTest/blob/main/2_10_%EC%8A%A4%EB%8F%84%EC%BF%A0%EA%B2%80%EC%82%AC.ipynb\" target=\"_parent\"><img src=\"https://colab.research.google.com/assets/colab-badge.svg\" alt=\"Open In Colab\"/></a>"
      ]
    },
    {
      "cell_type": "code",
      "source": [
        "def CheckSudoku(arr):\n",
        "  check_dict = {}\n",
        "  check_dict_row = {}\n",
        "  check_dict_col = {}\n",
        "\n",
        "  # 정사각형 검사\n",
        "  for i in [0, 3, 6]:\n",
        "    for j in [0, 3, 6]:\n",
        "      for n in range(10):\n",
        "        check_dict[n] = 0\n",
        "      for k in range(3):\n",
        "        for l in range(3):\n",
        "          if not check_dict[arr[i+k][j+l]]:\n",
        "            check_dict[arr[i+k][j+l]] += 1\n",
        "          elif check_dict[arr[i+k][j+l]] > 1:\n",
        "            return \"NO\"\n",
        "\n",
        "  # 행+열 검사\n",
        "  for i in range(9):\n",
        "    for n in range(10):\n",
        "      check_dict_row[n] = 0\n",
        "      check_dict_col[n] = 0\n",
        "    for j in range(9):\n",
        "      if not check_dict_row[arr[i][j]]:\n",
        "        check_dict_row[arr[i][j]] += 1\n",
        "      elif check_dict_row[arr[i][j]] > 1:\n",
        "        return \"NO\"\n",
        "      if not check_dict_col[arr[j][i]]:\n",
        "        check_dict_col[arr[j][i]] += 1\n",
        "      elif check_dict_col[arr[j][i]] > 1:\n",
        "        return \"NO\"\n",
        "\n",
        "  return \"YES\"\n",
        "\n",
        "arr = [\n",
        "    [1, 4, 3, 6, 2, 8, 5, 7, 9],\n",
        "    [5, 7, 2, 1, 3, 9, 4, 6, 8],\n",
        "    [9, 8, 6, 7, 5, 4, 2, 3, 1],\n",
        "    [3, 9, 1, 5, 4, 2, 7, 8, 6],\n",
        "    [4, 6, 8, 9, 1, 7, 3, 5, 2],\n",
        "    [7, 2, 5, 8, 6, 3, 9, 1, 4],\n",
        "    [2, 3, 7, 4, 8, 1, 6, 9, 5],\n",
        "    [6, 1, 9, 2, 7, 5, 8, 4, 3],\n",
        "    [8, 5, 4, 3, 9, 6, 1, 2, 7]\n",
        "]\n",
        "print(CheckSudoku(arr))\n",
        "# arr = []\n",
        "# for _ in range(9):\n",
        "#   arr.append(list(map(int, input().split())))"
      ],
      "metadata": {
        "colab": {
          "base_uri": "https://localhost:8080/"
        },
        "id": "T4GJboeY_Lvn",
        "outputId": "8e8d3ca5-2a72-4998-cc2c-d67bf6157c95"
      },
      "execution_count": 4,
      "outputs": [
        {
          "output_type": "stream",
          "name": "stdout",
          "text": [
            "YES\n"
          ]
        }
      ]
    }
  ]
}