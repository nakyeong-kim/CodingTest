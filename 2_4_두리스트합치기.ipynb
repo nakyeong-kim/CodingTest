{
  "nbformat": 4,
  "nbformat_minor": 0,
  "metadata": {
    "colab": {
      "provenance": [],
      "authorship_tag": "ABX9TyOs2QMKfhkLDM9KGtcl2dnx",
      "include_colab_link": true
    },
    "kernelspec": {
      "name": "python3",
      "display_name": "Python 3"
    },
    "language_info": {
      "name": "python"
    }
  },
  "cells": [
    {
      "cell_type": "markdown",
      "metadata": {
        "id": "view-in-github",
        "colab_type": "text"
      },
      "source": [
        "<a href=\"https://colab.research.google.com/github/nakyeong-kim/CodingTest/blob/main/2_4_%EB%91%90%EB%A6%AC%EC%8A%A4%ED%8A%B8%ED%95%A9%EC%B9%98%EA%B8%B0.ipynb\" target=\"_parent\"><img src=\"https://colab.research.google.com/assets/colab-badge.svg\" alt=\"Open In Colab\"/></a>"
      ]
    },
    {
      "cell_type": "code",
      "execution_count": 1,
      "metadata": {
        "colab": {
          "base_uri": "https://localhost:8080/"
        },
        "id": "Div0kAq7rpRg",
        "outputId": "a18f6272-139e-459d-f52c-290875692205"
      },
      "outputs": [
        {
          "output_type": "stream",
          "name": "stdout",
          "text": [
            "3\n",
            "1 3 5\n",
            "5\n",
            "2 3 6 7 9\n",
            "1 2 3 3 5 6 7 9 "
          ]
        }
      ],
      "source": [
        "def AscendingSort(N, M, n_list, m_list):\n",
        "  result = []\n",
        "  i = 0; j = 0\n",
        "\n",
        "  while(i<N and j<M):\n",
        "    if n_list[i] <= m_list[j]:\n",
        "      result.append(n_list[i])\n",
        "      i += 1\n",
        "    else:\n",
        "      result.append(m_list[j])\n",
        "      j += 1\n",
        "\n",
        "  result += [n_list[_] for _ in range(i, N)]\n",
        "  result += [m_list[_] for _ in range(j, M)]\n",
        "\n",
        "  return result\n",
        "\n",
        "N = int(input())\n",
        "n_list = list(map(int, input().split()))\n",
        "M = int(input())\n",
        "m_list = list(map(int, input().split()))\n",
        "\n",
        "for i in AscendingSort(N, M, n_list, m_list):\n",
        "  print(i, end=' ')"
      ]
    }
  ]
}