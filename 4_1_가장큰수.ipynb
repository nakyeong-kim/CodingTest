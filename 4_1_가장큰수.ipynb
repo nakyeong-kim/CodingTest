{
  "nbformat": 4,
  "nbformat_minor": 0,
  "metadata": {
    "colab": {
      "provenance": [],
      "authorship_tag": "ABX9TyMcJVmMNYOjpmc0wqBCnjKD",
      "include_colab_link": true
    },
    "kernelspec": {
      "name": "python3",
      "display_name": "Python 3"
    },
    "language_info": {
      "name": "python"
    }
  },
  "cells": [
    {
      "cell_type": "markdown",
      "metadata": {
        "id": "view-in-github",
        "colab_type": "text"
      },
      "source": [
        "<a href=\"https://colab.research.google.com/github/nakyeong-kim/CodingTest/blob/main/4_1_%EA%B0%80%EC%9E%A5%ED%81%B0%EC%88%98.ipynb\" target=\"_parent\"><img src=\"https://colab.research.google.com/assets/colab-badge.svg\" alt=\"Open In Colab\"/></a>"
      ]
    },
    {
      "cell_type": "code",
      "execution_count": 8,
      "metadata": {
        "id": "Vn6THiimyyRU",
        "colab": {
          "base_uri": "https://localhost:8080/"
        },
        "outputId": "d92b3882-a594-41bd-822a-2dcc1e86deb1"
      },
      "outputs": [
        {
          "output_type": "stream",
          "name": "stdout",
          "text": [
            "5273823 3\n",
            "[8, 3]\n"
          ]
        }
      ],
      "source": [
        "def BiggestNumber(N, M):\n",
        "  stack = []\n",
        "\n",
        "  for i in list(map(int, str(N))):\n",
        "    while stack and stack[-1] < i:\n",
        "      stack.pop()\n",
        "    stack.append(i)\n",
        "\n",
        "\n",
        "  return stack\n",
        "\n",
        "\n",
        "N, M = map(int, input().split())\n",
        "print(BiggestNumber(N, M))"
      ]
    }
  ]
}