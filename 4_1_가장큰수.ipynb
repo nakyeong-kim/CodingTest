{
  "nbformat": 4,
  "nbformat_minor": 0,
  "metadata": {
    "colab": {
      "provenance": [],
      "authorship_tag": "ABX9TyOrHXYC4NcGBDQqMlgDRQEO",
      "include_colab_link": true
    },
    "kernelspec": {
      "name": "python3",
      "display_name": "Python 3"
    },
    "language_info": {
      "name": "python"
    }
  },
  "cells": [
    {
      "cell_type": "markdown",
      "metadata": {
        "id": "view-in-github",
        "colab_type": "text"
      },
      "source": [
        "<a href=\"https://colab.research.google.com/github/nakyeong-kim/CodingTest/blob/main/4_1_%EA%B0%80%EC%9E%A5%ED%81%B0%EC%88%98.ipynb\" target=\"_parent\"><img src=\"https://colab.research.google.com/assets/colab-badge.svg\" alt=\"Open In Colab\"/></a>"
      ]
    },
    {
      "cell_type": "code",
      "execution_count": 25,
      "metadata": {
        "id": "Vn6THiimyyRU",
        "colab": {
          "base_uri": "https://localhost:8080/"
        },
        "outputId": "870f7133-6163-45cf-879c-a6675799ffdd"
      },
      "outputs": [
        {
          "output_type": "stream",
          "name": "stdout",
          "text": [
            "9977252641 5\n",
            "99776\n"
          ]
        }
      ],
      "source": [
        "def BiggestNumber(N, M):\n",
        "  stack = []\n",
        "\n",
        "  for i in list(map(int, str(N))):\n",
        "    while M > 0 and stack and stack[-1] < i:\n",
        "      stack.pop()\n",
        "      M -= 1\n",
        "    stack.append(i)\n",
        "\n",
        "  while M > 0:\n",
        "    stack.pop()\n",
        "    M -= 1\n",
        "\n",
        "  return int(\"\".join(map(str, stack)))\n",
        "\n",
        "N, M = map(int, input().split())\n",
        "print(BiggestNumber(N, M))"
      ]
    }
  ]
}