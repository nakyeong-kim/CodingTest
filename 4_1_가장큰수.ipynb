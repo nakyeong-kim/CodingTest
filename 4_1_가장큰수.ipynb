{
  "nbformat": 4,
  "nbformat_minor": 0,
  "metadata": {
    "colab": {
      "provenance": [],
      "authorship_tag": "ABX9TyPyt5zG/1HXFLPXr04d+ZDc",
      "include_colab_link": true
    },
    "kernelspec": {
      "name": "python3",
      "display_name": "Python 3"
    },
    "language_info": {
      "name": "python"
    }
  },
  "cells": [
    {
      "cell_type": "markdown",
      "metadata": {
        "id": "view-in-github",
        "colab_type": "text"
      },
      "source": [
        "<a href=\"https://colab.research.google.com/github/nakyeong-kim/CodingTest/blob/main/4_1_%EA%B0%80%EC%9E%A5%ED%81%B0%EC%88%98.ipynb\" target=\"_parent\"><img src=\"https://colab.research.google.com/assets/colab-badge.svg\" alt=\"Open In Colab\"/></a>"
      ]
    },
    {
      "cell_type": "code",
      "execution_count": 5,
      "metadata": {
        "id": "Vn6THiimyyRU",
        "colab": {
          "base_uri": "https://localhost:8080/"
        },
        "outputId": "d7c27c7e-9fbb-4675-ce6a-c3d17efab014"
      },
      "outputs": [
        {
          "name": "stdout",
          "output_type": "stream",
          "text": [
            "987465312 10\n"
          ]
        }
      ],
      "source": [
        "def BiggestNumber(N, M):\n",
        "  stack = []\n",
        "\n",
        "  for i in list(map(int, str(N))):\n",
        "    stack.append()\n",
        "\n",
        "\n",
        "N, M = map(int, input().split())\n",
        "BiggestNumber(N, M)"
      ]
    }
  ]
}