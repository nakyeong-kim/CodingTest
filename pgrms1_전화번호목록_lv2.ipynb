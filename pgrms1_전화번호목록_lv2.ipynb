{
  "nbformat": 4,
  "nbformat_minor": 0,
  "metadata": {
    "colab": {
      "provenance": [],
      "authorship_tag": "ABX9TyOBlIHAYOpX72HseYUi5wel",
      "include_colab_link": true
    },
    "kernelspec": {
      "name": "python3",
      "display_name": "Python 3"
    },
    "language_info": {
      "name": "python"
    }
  },
  "cells": [
    {
      "cell_type": "markdown",
      "metadata": {
        "id": "view-in-github",
        "colab_type": "text"
      },
      "source": [
        "<a href=\"https://colab.research.google.com/github/nakyeong-kim/CodingTest/blob/main/pgrms1_%EC%A0%84%ED%99%94%EB%B2%88%ED%98%B8%EB%AA%A9%EB%A1%9D_lv2.ipynb\" target=\"_parent\"><img src=\"https://colab.research.google.com/assets/colab-badge.svg\" alt=\"Open In Colab\"/></a>"
      ]
    },
    {
      "cell_type": "code",
      "execution_count": null,
      "metadata": {
        "id": "_gCOJbLQyZS9"
      },
      "outputs": [],
      "source": [
        "# 정확성 테스트 20/20 | 효율성 테스트 4/4\n",
        "def solution(phone_book):\n",
        "    phone_book_dict = {}\n",
        "    for phone_num in phone_book:\n",
        "        phone_book_dict[phone_num] = len(phone_num)\n",
        "    phone_book_dict = dict(sorted(list(phone_book_dict.items()), key = lambda x: (x[0], x[1])))\n",
        "    phone_book = list(phone_book_dict.keys())\n",
        "\n",
        "    len_phone_book = len(phone_book)\n",
        "    i = 0\n",
        "    while i < len_phone_book-1:\n",
        "        if phone_book[i+1][:phone_book_dict[phone_book[i]]] == phone_book[i]:\n",
        "            return False\n",
        "        i += 1\n",
        "\n",
        "    return True\n",
        "\n",
        "# 정확성 테스트 20/20 | 효율성 테스트 2/4\n",
        "# def solution(phone_book):\n",
        "#     len_phone_book = len(phone_book)\n",
        "\n",
        "#     i = 0\n",
        "#     while i < len_phone_book:\n",
        "#         for target_i in range(i+1, len_phone_book):\n",
        "#             if len(phone_book[i]) <= len(phone_book[target_i]):\n",
        "#                 for compare_i, compare in enumerate(phone_book[i]):\n",
        "#                     if phone_book[target_i][compare_i] != compare:\n",
        "#                         break\n",
        "#                     if compare_i == len(phone_book[i])-1 and phone_book[target_i][compare_i] == compare:\n",
        "#                         return False\n",
        "#             else:\n",
        "#                 for compare_i, compare in enumerate(phone_book[target_i]):\n",
        "#                     if phone_book[i][compare_i] != compare:\n",
        "#                         break\n",
        "#                     if compare_i == len(phone_book[target_i])-1 and phone_book[i][compare_i] == compare:\n",
        "#                         return False\n",
        "#         i += 1\n",
        "\n",
        "#     return True"
      ]
    }
  ]
}