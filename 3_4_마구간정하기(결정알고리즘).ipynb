{
  "nbformat": 4,
  "nbformat_minor": 0,
  "metadata": {
    "colab": {
      "provenance": [],
      "authorship_tag": "ABX9TyOpiErzuw/GJnb6ibR4ey5U",
      "include_colab_link": true
    },
    "kernelspec": {
      "name": "python3",
      "display_name": "Python 3"
    },
    "language_info": {
      "name": "python"
    }
  },
  "cells": [
    {
      "cell_type": "markdown",
      "metadata": {
        "id": "view-in-github",
        "colab_type": "text"
      },
      "source": [
        "<a href=\"https://colab.research.google.com/github/nakyeong-kim/CodingTest/blob/main/3_4_%EB%A7%88%EA%B5%AC%EA%B0%84%EC%A0%95%ED%95%98%EA%B8%B0(%EA%B2%B0%EC%A0%95%EC%95%8C%EA%B3%A0%EB%A6%AC%EC%A6%98).ipynb\" target=\"_parent\"><img src=\"https://colab.research.google.com/assets/colab-badge.svg\" alt=\"Open In Colab\"/></a>"
      ]
    },
    {
      "cell_type": "code",
      "execution_count": 32,
      "metadata": {
        "id": "Vn6THiimyyRU",
        "colab": {
          "base_uri": "https://localhost:8080/"
        },
        "outputId": "435abea6-a899-44cc-ce77-d09815932125"
      },
      "outputs": [
        {
          "output_type": "stream",
          "name": "stdout",
          "text": [
            "5 3\n",
            "1\n",
            "2\n",
            "8\n",
            "4\n",
            "9\n",
            "1 8 4 0\n",
            "1 3 2 0\n",
            "3 3 3 2\n",
            "3\n"
          ]
        }
      ],
      "source": [
        "def SetStable(N, C, stable_list):\n",
        "  stable_list.sort()\n",
        "  lt = 1\n",
        "  rt = stable_list[-1] - stable_list[0]\n",
        "  result = 0\n",
        "\n",
        "  while lt <= rt:\n",
        "    mid = (lt+rt)//2\n",
        "    horse_num = C-1   # 첫번째 말은 이미 가장 처음에 배치\n",
        "    i = 0\n",
        "\n",
        "    while True:\n",
        "      for j in range(i+1, N):\n",
        "        if stable_list[j] - stable_list[i] >= mid:\n",
        "          horse_num -= 1\n",
        "          i = j\n",
        "          break\n",
        "      if j >= N-1:\n",
        "        break\n",
        "\n",
        "    if horse_num > 0:   # 말이 다 못들어가면,\n",
        "      rt = mid - 1\n",
        "    else:\n",
        "      result = mid\n",
        "      lt = mid + 1\n",
        "\n",
        "  return result\n",
        "\n",
        "\n",
        "N, C = map(int, input().split())\n",
        "stable_list = []\n",
        "for _ in range(N):\n",
        "  stable_list.append(int(input()))\n",
        "\n",
        "print(SetStable(N, C, stable_list))"
      ]
    }
  ]
}