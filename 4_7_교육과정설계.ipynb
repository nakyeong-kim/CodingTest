{
  "nbformat": 4,
  "nbformat_minor": 0,
  "metadata": {
    "colab": {
      "provenance": [],
      "authorship_tag": "ABX9TyPg9zv3CKKqmISoy/1ZVUm5",
      "include_colab_link": true
    },
    "kernelspec": {
      "name": "python3",
      "display_name": "Python 3"
    },
    "language_info": {
      "name": "python"
    }
  },
  "cells": [
    {
      "cell_type": "markdown",
      "metadata": {
        "id": "view-in-github",
        "colab_type": "text"
      },
      "source": [
        "<a href=\"https://colab.research.google.com/github/nakyeong-kim/CodingTest/blob/main/4_7_%EA%B5%90%EC%9C%A1%EA%B3%BC%EC%A0%95%EC%84%A4%EA%B3%84.ipynb\" target=\"_parent\"><img src=\"https://colab.research.google.com/assets/colab-badge.svg\" alt=\"Open In Colab\"/></a>"
      ]
    },
    {
      "cell_type": "code",
      "execution_count": 13,
      "metadata": {
        "colab": {
          "base_uri": "https://localhost:8080/"
        },
        "id": "yllSVODqE3Z6",
        "outputId": "4fdeed76-f576-4092-8150-65cac50f2e4a"
      },
      "outputs": [
        {
          "output_type": "stream",
          "name": "stdout",
          "text": [
            "CBA\n",
            "4\n",
            "CBDAGE\n",
            "#1 YES\n",
            "FGCDAB\n",
            "#2 NO\n",
            "CB\n",
            "#3 NO\n",
            "CTSBDEA\n",
            "#4 YES\n"
          ]
        }
      ],
      "source": [
        "from collections import deque\n",
        "\n",
        "def CheckCurriculum(required_subjects, curriculum):\n",
        "  queue = deque(required_subjects)\n",
        "  cnt = 0\n",
        "\n",
        "  for c in curriculum:\n",
        "    if c in queue:\n",
        "      if c == queue[0]:\n",
        "        cnt += 1\n",
        "        queue.popleft()\n",
        "      else:\n",
        "        return \"NO\"\n",
        "\n",
        "  if queue:   # queue에 값이 남아있으면, 필수 과목을 커리큘럼에 넣지 않은 것임\n",
        "    return \"NO\"\n",
        "  return \"YES\"\n",
        "\n",
        "required_subjects = list(input())\n",
        "N = int(input())\n",
        "for n in range(N):\n",
        "  print(f\"#{n+1} {CheckCurriculum(required_subjects, list(input()))}\")"
      ]
    }
  ]
}