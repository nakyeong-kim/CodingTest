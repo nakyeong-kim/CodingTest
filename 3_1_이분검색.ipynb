{
  "nbformat": 4,
  "nbformat_minor": 0,
  "metadata": {
    "colab": {
      "provenance": [],
      "authorship_tag": "ABX9TyOHDL5dDzcAUq01FVau5zWL",
      "include_colab_link": true
    },
    "kernelspec": {
      "name": "python3",
      "display_name": "Python 3"
    },
    "language_info": {
      "name": "python"
    }
  },
  "cells": [
    {
      "cell_type": "markdown",
      "metadata": {
        "id": "view-in-github",
        "colab_type": "text"
      },
      "source": [
        "<a href=\"https://colab.research.google.com/github/nakyeong-kim/CodingTest/blob/main/3_1_%EC%9D%B4%EB%B6%84%EA%B2%80%EC%83%89.ipynb\" target=\"_parent\"><img src=\"https://colab.research.google.com/assets/colab-badge.svg\" alt=\"Open In Colab\"/></a>"
      ]
    },
    {
      "cell_type": "code",
      "execution_count": 8,
      "metadata": {
        "id": "1KrEz-VSyaNd",
        "colab": {
          "base_uri": "https://localhost:8080/"
        },
        "outputId": "406a0440-1d5b-46ff-904c-8bb1e1da9a96"
      },
      "outputs": [
        {
          "output_type": "stream",
          "name": "stdout",
          "text": [
            "8 32\n",
            "23 87 65 12 57 32 99 81\n",
            "3\n"
          ]
        }
      ],
      "source": [
        "def BinarySearch(N, M, n_list):\n",
        "  n_list.sort()\n",
        "\n",
        "  low = 0\n",
        "  high = N - 1\n",
        "\n",
        "  while low >= 0 and high < N:\n",
        "    mid = low + (high - low) // 2\n",
        "    if n_list[mid] == M:\n",
        "      return mid + 1\n",
        "    elif n_list[mid] < M:\n",
        "      low = mid + 1\n",
        "    elif n_list[mid] > M:\n",
        "      high = mid - 1\n",
        "\n",
        "  return -1\n",
        "\n",
        "N, M = map(int, input().split())\n",
        "n_list = list(map(int, input().split()))\n",
        "print(BinarySearch(N, M, n_list))"
      ]
    }
  ]
}