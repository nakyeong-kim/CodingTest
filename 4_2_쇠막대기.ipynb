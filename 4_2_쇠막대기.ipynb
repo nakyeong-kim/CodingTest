{
  "nbformat": 4,
  "nbformat_minor": 0,
  "metadata": {
    "colab": {
      "provenance": [],
      "authorship_tag": "ABX9TyNew/TqBOoA56E3/G283qzv",
      "include_colab_link": true
    },
    "kernelspec": {
      "name": "python3",
      "display_name": "Python 3"
    },
    "language_info": {
      "name": "python"
    }
  },
  "cells": [
    {
      "cell_type": "markdown",
      "metadata": {
        "id": "view-in-github",
        "colab_type": "text"
      },
      "source": [
        "<a href=\"https://colab.research.google.com/github/nakyeong-kim/CodingTest/blob/main/4_2_%EC%87%A0%EB%A7%89%EB%8C%80%EA%B8%B0.ipynb\" target=\"_parent\"><img src=\"https://colab.research.google.com/assets/colab-badge.svg\" alt=\"Open In Colab\"/></a>"
      ]
    },
    {
      "cell_type": "code",
      "execution_count": 5,
      "metadata": {
        "id": "Vn6THiimyyRU",
        "colab": {
          "base_uri": "https://localhost:8080/"
        },
        "outputId": "5b22c497-f4f4-4f9d-8758-f5209ead12bc"
      },
      "outputs": [
        {
          "output_type": "stream",
          "name": "stdout",
          "text": [
            "()()()()\n",
            "(\n"
          ]
        }
      ],
      "source": [
        "def IronBar(bracket_list):\n",
        "  stack = []\n",
        "  result = 0\n",
        "\n",
        "  for bracket in bracket_list:\n",
        "    if bracket == '(':\n",
        "      stack.append(bracket)\n",
        "    elif bracket == ')'\n",
        "      if stack and stack[-1] == '(':\n",
        "        stack.pop()\n",
        "        result += len(stack)\n",
        "\n",
        "\n",
        "\n",
        "\n",
        "\n",
        "      else:   # 쇠막대의 끝이 경우\n",
        "        stack.pop()\n",
        "        for i in\n",
        "\n",
        "      result += 1\n",
        "\n",
        "bracket = input()\n",
        "IronBar(list(bracket))"
      ]
    }
  ]
}