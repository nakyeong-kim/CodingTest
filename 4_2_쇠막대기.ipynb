{
  "nbformat": 4,
  "nbformat_minor": 0,
  "metadata": {
    "colab": {
      "provenance": [],
      "authorship_tag": "ABX9TyP9lpDFL3o/l0Z5sU8ugNTc",
      "include_colab_link": true
    },
    "kernelspec": {
      "name": "python3",
      "display_name": "Python 3"
    },
    "language_info": {
      "name": "python"
    }
  },
  "cells": [
    {
      "cell_type": "markdown",
      "metadata": {
        "id": "view-in-github",
        "colab_type": "text"
      },
      "source": [
        "<a href=\"https://colab.research.google.com/github/nakyeong-kim/CodingTest/blob/main/4_2_%EC%87%A0%EB%A7%89%EB%8C%80%EA%B8%B0.ipynb\" target=\"_parent\"><img src=\"https://colab.research.google.com/assets/colab-badge.svg\" alt=\"Open In Colab\"/></a>"
      ]
    },
    {
      "cell_type": "code",
      "execution_count": 22,
      "metadata": {
        "id": "Vn6THiimyyRU",
        "colab": {
          "base_uri": "https://localhost:8080/"
        },
        "outputId": "ef552be3-15ad-479a-c2c0-c629ef01e165"
      },
      "outputs": [
        {
          "output_type": "stream",
          "name": "stdout",
          "text": [
            "(((()(()()))(())()))(()())\n",
            "24\n"
          ]
        }
      ],
      "source": [
        "def IronBar(bracket_list):\n",
        "  stack = []\n",
        "  result = 0\n",
        "\n",
        "  for i, bracket in enumerate(bracket_list):\n",
        "    if bracket == '(':\n",
        "      stack.append(bracket)\n",
        "    elif bracket == ')':\n",
        "      if bracket_list[i-1] == '(':\n",
        "        stack.pop()\n",
        "        result += len(stack)\n",
        "      elif bracket_list[i-1] == ')':\n",
        "        stack.pop()\n",
        "        result += 1\n",
        "\n",
        "  return result\n",
        "\n",
        "bracket = input()\n",
        "print(IronBar(list(bracket)))"
      ]
    }
  ]
}