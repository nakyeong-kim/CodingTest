{
  "nbformat": 4,
  "nbformat_minor": 0,
  "metadata": {
    "colab": {
      "provenance": [],
      "authorship_tag": "ABX9TyO1gIxMM5TmSzB9Kp2+ug+P",
      "include_colab_link": true
    },
    "kernelspec": {
      "name": "python3",
      "display_name": "Python 3"
    },
    "language_info": {
      "name": "python"
    }
  },
  "cells": [
    {
      "cell_type": "markdown",
      "metadata": {
        "id": "view-in-github",
        "colab_type": "text"
      },
      "source": [
        "<a href=\"https://colab.research.google.com/github/nakyeong-kim/CodingTest/blob/main/4_2_%EC%87%A0%EB%A7%89%EB%8C%80%EA%B8%B0.ipynb\" target=\"_parent\"><img src=\"https://colab.research.google.com/assets/colab-badge.svg\" alt=\"Open In Colab\"/></a>"
      ]
    },
    {
      "cell_type": "code",
      "execution_count": 13,
      "metadata": {
        "id": "Vn6THiimyyRU",
        "colab": {
          "base_uri": "https://localhost:8080/"
        },
        "outputId": "2823c932-fcb4-4953-90a5-9a5b5d951a81"
      },
      "outputs": [
        {
          "output_type": "stream",
          "name": "stdout",
          "text": [
            "()(((()())(())()))(())\n",
            "0\n",
            "3\n",
            "3\n",
            "2\n",
            "3\n",
            "2\n",
            "2\n",
            "1\n",
            "0\n",
            "1\n",
            "0\n"
          ]
        },
        {
          "output_type": "execute_result",
          "data": {
            "text/plain": [
              "17"
            ]
          },
          "metadata": {},
          "execution_count": 13
        }
      ],
      "source": [
        "def IronBar(bracket_list):\n",
        "  stack = []\n",
        "  result = 0\n",
        "\n",
        "  for bracket in bracket_list:\n",
        "    if bracket == '(':\n",
        "      stack.append(bracket)\n",
        "    elif bracket == ')':\n",
        "        stack.pop()\n",
        "        result += len(stack)\n",
        "        print(len(stack))\n",
        "\n",
        "  return result\n",
        "\n",
        "bracket = input()\n",
        "IronBar(list(bracket))"
      ]
    }
  ]
}