{
  "nbformat": 4,
  "nbformat_minor": 0,
  "metadata": {
    "colab": {
      "provenance": [],
      "authorship_tag": "ABX9TyNS8dzQjxD27Rs0JYJtGd2I",
      "include_colab_link": true
    },
    "kernelspec": {
      "name": "python3",
      "display_name": "Python 3"
    },
    "language_info": {
      "name": "python"
    }
  },
  "cells": [
    {
      "cell_type": "markdown",
      "metadata": {
        "id": "view-in-github",
        "colab_type": "text"
      },
      "source": [
        "<a href=\"https://colab.research.google.com/github/nakyeong-kim/CodingTest/blob/main/4_%EB%8C%80%ED%91%9C%EA%B0%92.ipynb\" target=\"_parent\"><img src=\"https://colab.research.google.com/assets/colab-badge.svg\" alt=\"Open In Colab\"/></a>"
      ]
    },
    {
      "cell_type": "code",
      "execution_count": 15,
      "metadata": {
        "colab": {
          "base_uri": "https://localhost:8080/"
        },
        "id": "Q45sIGrgn5g8",
        "outputId": "a4f8c90b-0051-4c21-ca24-da4e1e40af8e"
      },
      "outputs": [
        {
          "output_type": "stream",
          "name": "stdout",
          "text": [
            "10\n",
            "45 73 66 87 92 67 75 79 75 80\n",
            "74 7\n"
          ]
        }
      ],
      "source": [
        "def RepresentitveValue(N, num_list):\n",
        "  avg = round(sum(num_list)/N)    # round는 round_half_even 방식이므로 수학적으로 정확한 반올림을 위해서는, int(n + 0.5)를 사용할 것\n",
        "  min_student = 0\n",
        "  for i in range(1, N):\n",
        "    if abs(avg - num_list[i]) < abs(avg - num_list[min_student]):\n",
        "      min_student = i\n",
        "    elif abs(avg - num_list[i]) == abs(avg - num_list[min_student]):\n",
        "      if num_list[i] > num_list[min_student]:\n",
        "        min_student = i\n",
        "\n",
        "  return avg, min_student + 1\n",
        "\n",
        "N = int(input())\n",
        "num_list = list(map(int, input().split()))\n",
        "avg, student = RepresentitveValue(N, num_list)\n",
        "print(avg, student)"
      ]
    }
  ]
}