{
  "nbformat": 4,
  "nbformat_minor": 0,
  "metadata": {
    "colab": {
      "provenance": [],
      "authorship_tag": "ABX9TyNv9hWLBbei0AruM8zS1LOG",
      "include_colab_link": true
    },
    "kernelspec": {
      "name": "python3",
      "display_name": "Python 3"
    },
    "language_info": {
      "name": "python"
    }
  },
  "cells": [
    {
      "cell_type": "markdown",
      "metadata": {
        "id": "view-in-github",
        "colab_type": "text"
      },
      "source": [
        "<a href=\"https://colab.research.google.com/github/nakyeong-kim/CodingTest/blob/main/4_3_%ED%9B%84%EC%9C%84%ED%91%9C%EA%B8%B0%EC%8B%9D%EB%A7%8C%EB%93%A4%EA%B8%B0_ipynb%EC%9D%98_%EC%82%AC%EB%B3%B8.ipynb\" target=\"_parent\"><img src=\"https://colab.research.google.com/assets/colab-badge.svg\" alt=\"Open In Colab\"/></a>"
      ]
    },
    {
      "cell_type": "code",
      "execution_count": 9,
      "metadata": {
        "id": "Vn6THiimyyRU",
        "colab": {
          "base_uri": "https://localhost:8080/"
        },
        "outputId": "dc043785-169a-4dc6-8c3d-7c61a4f699b3"
      },
      "outputs": [
        {
          "output_type": "stream",
          "name": "stdout",
          "text": [
            "352+*9-\n",
            "12\n"
          ]
        }
      ],
      "source": [
        "def PostfixOperation(postfix_expression):\n",
        "  stack = []\n",
        "\n",
        "  for p in postfix_expression:\n",
        "    if p.isdecimal():\n",
        "      stack.append(int(p))\n",
        "    elif p == '+':\n",
        "      a = stack.pop()\n",
        "      b = stack.pop()\n",
        "      stack.append(b+a)\n",
        "    elif p == '-':\n",
        "      a = stack.pop()\n",
        "      b = stack.pop()\n",
        "      stack.append(b-a)\n",
        "    elif p == '*':\n",
        "      a = stack.pop()\n",
        "      b = stack.pop()\n",
        "      stack.append(b*a)\n",
        "    elif p == '/':\n",
        "      a = stack.pop()\n",
        "      b = stack.pop()\n",
        "      stack.append(b/a)\n",
        "\n",
        "  return stack[0]\n",
        "\n",
        "postfix_expression = input()\n",
        "print(PostfixOperation(list(postfix_expression)))"
      ]
    }
  ]
}