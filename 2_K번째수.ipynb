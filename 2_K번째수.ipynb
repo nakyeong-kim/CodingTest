{
  "nbformat": 4,
  "nbformat_minor": 0,
  "metadata": {
    "colab": {
      "provenance": [],
      "authorship_tag": "ABX9TyNJRZrbOGA9Gd7oNo9Z+vGG",
      "include_colab_link": true
    },
    "kernelspec": {
      "name": "python3",
      "display_name": "Python 3"
    },
    "language_info": {
      "name": "python"
    }
  },
  "cells": [
    {
      "cell_type": "markdown",
      "metadata": {
        "id": "view-in-github",
        "colab_type": "text"
      },
      "source": [
        "<a href=\"https://colab.research.google.com/github/nakyeong-kim/CodingTest/blob/main/2_K%EB%B2%88%EC%A7%B8%EC%88%98.ipynb\" target=\"_parent\"><img src=\"https://colab.research.google.com/assets/colab-badge.svg\" alt=\"Open In Colab\"/></a>"
      ]
    },
    {
      "cell_type": "code",
      "execution_count": 11,
      "metadata": {
        "colab": {
          "base_uri": "https://localhost:8080/"
        },
        "id": "o1yOAPhs7aB-",
        "outputId": "84441ecc-23ea-4e1d-d21a-cca7b0db8fbd"
      },
      "outputs": [
        {
          "output_type": "stream",
          "name": "stdout",
          "text": [
            "2\n",
            "6 2 5 3\n",
            "5 2 7 3 8 9\n",
            "#1 7\n",
            "15 3 10 3\n",
            "4 15 8 16 6 6 17 3 10 11 18 7 14 7 15\n",
            "#2 6\n"
          ]
        }
      ],
      "source": [
        "def KthNumber(s, e, k, num_list):\n",
        "  return sorted(num_list[s-1:e])[k-1]\n",
        "\n",
        "T = int(input())\n",
        "for t in range(1, T + 1):\n",
        "  N, s, e, k = map(int, input().split())\n",
        "  num_list = list(map(int, input().split()))\n",
        "  print(f\"#{t} {KthNumber(s, e, k, num_list)}\")"
      ]
    }
  ]
}