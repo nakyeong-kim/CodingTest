{
  "nbformat": 4,
  "nbformat_minor": 0,
  "metadata": {
    "colab": {
      "provenance": [],
      "authorship_tag": "ABX9TyNfEIdDg6z8XRUiCDxhzBKY",
      "include_colab_link": true
    },
    "kernelspec": {
      "name": "python3",
      "display_name": "Python 3"
    },
    "language_info": {
      "name": "python"
    }
  },
  "cells": [
    {
      "cell_type": "markdown",
      "metadata": {
        "id": "view-in-github",
        "colab_type": "text"
      },
      "source": [
        "<a href=\"https://colab.research.google.com/github/nakyeong-kim/CodingTest/blob/main/2_K%EB%B2%88%EC%A7%B8%EC%88%98.ipynb\" target=\"_parent\"><img src=\"https://colab.research.google.com/assets/colab-badge.svg\" alt=\"Open In Colab\"/></a>"
      ]
    },
    {
      "cell_type": "code",
      "execution_count": 7,
      "metadata": {
        "colab": {
          "base_uri": "https://localhost:8080/"
        },
        "id": "o1yOAPhs7aB-",
        "outputId": "cbab3e07-c0c6-41a6-9f86-5324c614ef32"
      },
      "outputs": [
        {
          "output_type": "stream",
          "name": "stdout",
          "text": [
            "2\n",
            "1 1 1 1 \n",
            "21 21\n",
            "#0 1\n",
            "1 1 1 1\n",
            "21 21 12 12 \n",
            "#1 1\n"
          ]
        }
      ],
      "source": [
        "def KthNumber(N, s, e, k, num_list):\n",
        "  pass\n",
        "\n",
        "T = int(input())\n",
        "for t in range(1, T + 1):\n",
        "  N, s, e, k = map(int, input().split())\n",
        "  num_list = list(map(int, input().split()))\n",
        "  print(f\"#{t} {KthNumber(N, s, e, k, num_list)}\")"
      ]
    }
  ]
}