{
  "nbformat": 4,
  "nbformat_minor": 0,
  "metadata": {
    "colab": {
      "provenance": [],
      "authorship_tag": "ABX9TyP93OBVOUa3Z7Wm0ApkhNAv",
      "include_colab_link": true
    },
    "kernelspec": {
      "name": "python3",
      "display_name": "Python 3"
    },
    "language_info": {
      "name": "python"
    }
  },
  "cells": [
    {
      "cell_type": "markdown",
      "metadata": {
        "id": "view-in-github",
        "colab_type": "text"
      },
      "source": [
        "<a href=\"https://colab.research.google.com/github/nakyeong-kim/CodingTest/blob/main/pgrms3_H_index_lv2.ipynb\" target=\"_parent\"><img src=\"https://colab.research.google.com/assets/colab-badge.svg\" alt=\"Open In Colab\"/></a>"
      ]
    },
    {
      "cell_type": "code",
      "execution_count": null,
      "metadata": {
        "id": "_gCOJbLQyZS9"
      },
      "outputs": [],
      "source": [
        "# 정확성 테스트 16/16\n",
        "def solution(citations):\n",
        "    citations.sort(reverse=True)\n",
        "    papers_num = len(citations)\n",
        "\n",
        "    for i in range(papers_num):\n",
        "        if i+1 > citations[i]:\n",
        "            return i\n",
        "    return papers_num"
      ]
    }
  ]
}