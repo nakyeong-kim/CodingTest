{
  "nbformat": 4,
  "nbformat_minor": 0,
  "metadata": {
    "colab": {
      "provenance": [],
      "authorship_tag": "ABX9TyMf5HbCuwfqLTu1FZHc4mer",
      "include_colab_link": true
    },
    "kernelspec": {
      "name": "python3",
      "display_name": "Python 3"
    },
    "language_info": {
      "name": "python"
    }
  },
  "cells": [
    {
      "cell_type": "markdown",
      "metadata": {
        "id": "view-in-github",
        "colab_type": "text"
      },
      "source": [
        "<a href=\"https://colab.research.google.com/github/nakyeong-kim/CodingTest/blob/main/3_K%EB%B2%88%EC%A7%B8%ED%81%B0%EC%88%98.ipynb\" target=\"_parent\"><img src=\"https://colab.research.google.com/assets/colab-badge.svg\" alt=\"Open In Colab\"/></a>"
      ]
    },
    {
      "cell_type": "code",
      "source": [
        "def KthLargestNumber(N, K, num_list):\n",
        "  sum_set = set()\n",
        "  for i in range(N):\n",
        "    print(\">> i >> \", i)\n",
        "    for j in range(i + 1, N):\n",
        "      print(\">> j >> \", j)\n",
        "      for k in range(j + 1, N):\n",
        "        print(i, j, k)\n",
        "        sum_set.add(num_list[i] + num_list[j] + num_list[k])\n",
        "\n",
        "  return sorted(list(sum_set), reverse = True)[K-1]\n",
        "\n",
        "N, K = map(int, input().split())\n",
        "num_list = list(map(int, input().split()))\n",
        "print(KthLargestNumber(N, K, num_list))"
      ],
      "metadata": {
        "colab": {
          "base_uri": "https://localhost:8080/"
        },
        "id": "dKDQJibMF0Hg",
        "outputId": "29692103-95d1-456c-b53c-857de127bb6a"
      },
      "execution_count": 20,
      "outputs": [
        {
          "output_type": "stream",
          "name": "stdout",
          "text": [
            "4 3\n",
            "0 1 2 3\n",
            ">> i >>  0\n",
            ">> j >>  1\n",
            "0 1 2\n",
            "0 1 3\n",
            ">> j >>  2\n",
            "0 2 3\n",
            ">> j >>  3\n",
            ">> i >>  1\n",
            ">> j >>  2\n",
            "1 2 3\n",
            ">> j >>  3\n",
            ">> i >>  2\n",
            ">> j >>  3\n",
            ">> i >>  3\n",
            "4\n"
          ]
        }
      ]
    },
    {
      "cell_type": "code",
      "source": [],
      "metadata": {
        "id": "1xNR_CLwLW_Z"
      },
      "execution_count": null,
      "outputs": []
    }
  ]
}