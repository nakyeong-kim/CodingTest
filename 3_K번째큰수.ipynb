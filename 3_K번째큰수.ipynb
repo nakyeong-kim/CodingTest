{
  "nbformat": 4,
  "nbformat_minor": 0,
  "metadata": {
    "colab": {
      "provenance": [],
      "authorship_tag": "ABX9TyMgvxYuUiDbdjr/oC3susfV",
      "include_colab_link": true
    },
    "kernelspec": {
      "name": "python3",
      "display_name": "Python 3"
    },
    "language_info": {
      "name": "python"
    }
  },
  "cells": [
    {
      "cell_type": "markdown",
      "metadata": {
        "id": "view-in-github",
        "colab_type": "text"
      },
      "source": [
        "<a href=\"https://colab.research.google.com/github/nakyeong-kim/CodingTest/blob/main/3_K%EB%B2%88%EC%A7%B8%ED%81%B0%EC%88%98.ipynb\" target=\"_parent\"><img src=\"https://colab.research.google.com/assets/colab-badge.svg\" alt=\"Open In Colab\"/></a>"
      ]
    },
    {
      "cell_type": "code",
      "source": [
        "def KthLargestNumber(N, K, num_list):\n",
        "  sum_set = set()\n",
        "  for i in range(N - 2):    # N으로 해도 가능\n",
        "    for j in range(i + 1, N - 1):   # N으로 해도 가능\n",
        "      for k in range(j + 1, N):\n",
        "        sum_set.add(num_list[i] + num_list[j] + num_list[k])\n",
        "\n",
        "  return sorted(list(sum_set), reverse = True)[K-1]\n",
        "\n",
        "N, K = map(int, input().split())\n",
        "num_list = list(map(int, input().split()))\n",
        "print(KthLargestNumber(N, K, num_list))"
      ],
      "metadata": {
        "colab": {
          "base_uri": "https://localhost:8080/"
        },
        "id": "dKDQJibMF0Hg",
        "outputId": "a4fb0ec9-ceda-4bb3-d8d8-40fdb339dde7"
      },
      "execution_count": 24,
      "outputs": [
        {
          "output_type": "stream",
          "name": "stdout",
          "text": [
            "10 3\n",
            "13 15 34 23 45 65 33 11 26 42\n",
            "143\n"
          ]
        }
      ]
    },
    {
      "cell_type": "code",
      "source": [
        "for i in range(10, 1):\n",
        "  print(i)  # 아무것도 출력되지 않음"
      ],
      "metadata": {
        "id": "1xNR_CLwLW_Z"
      },
      "execution_count": 26,
      "outputs": []
    }
  ]
}