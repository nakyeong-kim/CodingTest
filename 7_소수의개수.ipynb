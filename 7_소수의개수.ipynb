{
  "nbformat": 4,
  "nbformat_minor": 0,
  "metadata": {
    "colab": {
      "provenance": [],
      "authorship_tag": "ABX9TyPvSitZTwN6uCL1CtDxpGUE",
      "include_colab_link": true
    },
    "kernelspec": {
      "name": "python3",
      "display_name": "Python 3"
    },
    "language_info": {
      "name": "python"
    }
  },
  "cells": [
    {
      "cell_type": "markdown",
      "metadata": {
        "id": "view-in-github",
        "colab_type": "text"
      },
      "source": [
        "<a href=\"https://colab.research.google.com/github/nakyeong-kim/CodingTest/blob/main/7_%EC%86%8C%EC%88%98%EC%9D%98%EA%B0%9C%EC%88%98.ipynb\" target=\"_parent\"><img src=\"https://colab.research.google.com/assets/colab-badge.svg\" alt=\"Open In Colab\"/></a>"
      ]
    },
    {
      "cell_type": "code",
      "execution_count": 4,
      "metadata": {
        "colab": {
          "base_uri": "https://localhost:8080/"
        },
        "id": "yopKXc6KAEZd",
        "outputId": "98375a06-9aac-45d9-af6c-f611151f2476"
      },
      "outputs": [
        {
          "output_type": "stream",
          "name": "stdout",
          "text": [
            "20\n",
            "8\n"
          ]
        }
      ],
      "source": [
        "# Time Limit(1초)\n",
        "\n",
        "def PrimeNumber(N):\n",
        "  prime_number = [2]\n",
        "  for i in range(3, N + 1):\n",
        "    for j in range(2, i):\n",
        "      if i % j == 0:\n",
        "        break\n",
        "    if j == i - 1:\n",
        "      prime_number.append(i)\n",
        "\n",
        "  return len(prime_number)\n",
        "\n",
        "N = int(input())\n",
        "print(PrimeNumber(N))"
      ]
    },
    {
      "cell_type": "code",
      "source": [
        "# 에라토스테네스의 체\n",
        "\n",
        "def PrimeNumber(N):\n",
        "  arr = [False, False] + [True] * (N - 1)   # 맨 앞 0은 무시하고, 1 ~ 20까지의 배열 생성\n",
        "  prime_number = []\n",
        "\n",
        "  for i in range(2, N + 1):\n",
        "    if arr[i]:\n",
        "      prime_number.append(i)\n",
        "      for j in range(i * 2, N + 1, i):  # 나머지 배수 모두 지우기\n",
        "        arr[j] = False\n",
        "  return len(prime_number)\n",
        "\n",
        "N = int(input())\n",
        "print(PrimeNumber(N))"
      ],
      "metadata": {
        "colab": {
          "base_uri": "https://localhost:8080/"
        },
        "id": "PxPYgdpjKx91",
        "outputId": "6c7216a6-3440-4ad6-ccc0-dac39268ad80"
      },
      "execution_count": 8,
      "outputs": [
        {
          "output_type": "stream",
          "name": "stdout",
          "text": [
            "20\n",
            "8\n"
          ]
        }
      ]
    }
  ]
}