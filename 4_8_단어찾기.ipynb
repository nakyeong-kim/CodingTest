{
  "nbformat": 4,
  "nbformat_minor": 0,
  "metadata": {
    "colab": {
      "provenance": [],
      "authorship_tag": "ABX9TyPNZZGIxq2EZk82U9q6FYv+",
      "include_colab_link": true
    },
    "kernelspec": {
      "name": "python3",
      "display_name": "Python 3"
    },
    "language_info": {
      "name": "python"
    }
  },
  "cells": [
    {
      "cell_type": "markdown",
      "metadata": {
        "id": "view-in-github",
        "colab_type": "text"
      },
      "source": [
        "<a href=\"https://colab.research.google.com/github/nakyeong-kim/CodingTest/blob/main/4_8_%EB%8B%A8%EC%96%B4%EC%B0%BE%EA%B8%B0.ipynb\" target=\"_parent\"><img src=\"https://colab.research.google.com/assets/colab-badge.svg\" alt=\"Open In Colab\"/></a>"
      ]
    },
    {
      "cell_type": "code",
      "execution_count": 9,
      "metadata": {
        "colab": {
          "base_uri": "https://localhost:8080/"
        },
        "id": "p5eecBH5Zx44",
        "outputId": "e6040f36-7a01-4a7b-95a7-1d2a4bda65d6"
      },
      "outputs": [
        {
          "output_type": "stream",
          "name": "stdout",
          "text": [
            "5\n",
            "big\n",
            "good\n",
            "sky\n",
            "blue\n",
            "mouse\n",
            "sky\n",
            "good\n",
            "mouse\n",
            "big\n",
            "blue\n"
          ]
        }
      ],
      "source": [
        "N = int(input())\n",
        "\n",
        "word_dict = {}\n",
        "for _ in range(N):\n",
        "  word_dict[input()] = 0\n",
        "\n",
        "for _ in range(N-1):\n",
        "  del word_dict[input()]  # == word_dict.pop(input())\n",
        "\n",
        "print(list(word_dict.keys())[0])"
      ]
    }
  ]
}