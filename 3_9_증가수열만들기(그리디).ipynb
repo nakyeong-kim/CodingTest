{
  "nbformat": 4,
  "nbformat_minor": 0,
  "metadata": {
    "colab": {
      "provenance": [],
      "authorship_tag": "ABX9TyN187Ulz7CYg5/MOL/7vvV2",
      "include_colab_link": true
    },
    "kernelspec": {
      "name": "python3",
      "display_name": "Python 3"
    },
    "language_info": {
      "name": "python"
    }
  },
  "cells": [
    {
      "cell_type": "markdown",
      "metadata": {
        "id": "view-in-github",
        "colab_type": "text"
      },
      "source": [
        "<a href=\"https://colab.research.google.com/github/nakyeong-kim/CodingTest/blob/main/3_9_%EC%A6%9D%EA%B0%80%EC%88%98%EC%97%B4%EB%A7%8C%EB%93%A4%EA%B8%B0(%EA%B7%B8%EB%A6%AC%EB%94%94).ipynb\" target=\"_parent\"><img src=\"https://colab.research.google.com/assets/colab-badge.svg\" alt=\"Open In Colab\"/></a>"
      ]
    },
    {
      "cell_type": "code",
      "execution_count": 8,
      "metadata": {
        "id": "Vn6THiimyyRU",
        "colab": {
          "base_uri": "https://localhost:8080/"
        },
        "outputId": "f4c3fc6e-4283-4452-b765-072fc88cb676"
      },
      "outputs": [
        {
          "output_type": "stream",
          "name": "stdout",
          "text": [
            "10\n",
            "3 2 10 1 5 4 7 8 9 6\n",
            "3\n",
            "LRR\n"
          ]
        }
      ],
      "source": [
        "from collections import deque\n",
        "\n",
        "def CreateIncreasingSequence(N, sequence):\n",
        "  sequence = deque(sequence)\n",
        "  increasing_sequence_lastnum = 0\n",
        "  result = ''\n",
        "\n",
        "  while sequence:\n",
        "    if sequence[0] > increasing_sequence_lastnum and sequence[-1] > increasing_sequence_lastnum:\n",
        "      if sequence[0] < sequence[-1] or len(sequence) == 1:\n",
        "        result += 'L'\n",
        "        increasing_sequence_lastnum = sequence.popleft()\n",
        "      elif sequence[0] > sequence[-1]:\n",
        "        result += 'R'\n",
        "        increasing_sequence_lastnum = sequence.pop()\n",
        "    elif sequence[0] > increasing_sequence_lastnum:\n",
        "      result += 'L'\n",
        "      increasing_sequence_lastnum = sequence.popleft()\n",
        "    elif sequence[-1] > increasing_sequence_lastnum:\n",
        "      result += 'R'\n",
        "      increasing_sequence_lastnum = sequence.pop()\n",
        "    else:\n",
        "      break\n",
        "\n",
        "  return len(result), result\n",
        "\n",
        "\n",
        "N = int(input())\n",
        "sequence = list(map(int, input().split()))\n",
        "\n",
        "n, s = CreateIncreasingSequence(N, sequence)\n",
        "print(n)\n",
        "print(s)"
      ]
    }
  ]
}