{
  "nbformat": 4,
  "nbformat_minor": 0,
  "metadata": {
    "colab": {
      "provenance": [],
      "authorship_tag": "ABX9TyNl+dFSTi/3tqaV1gLLd08r",
      "include_colab_link": true
    },
    "kernelspec": {
      "name": "python3",
      "display_name": "Python 3"
    },
    "language_info": {
      "name": "python"
    }
  },
  "cells": [
    {
      "cell_type": "markdown",
      "metadata": {
        "id": "view-in-github",
        "colab_type": "text"
      },
      "source": [
        "<a href=\"https://colab.research.google.com/github/nakyeong-kim/CodingTest/blob/main/prgms7_%EA%B0%99%EC%9D%80%EC%88%AB%EC%9E%90%EB%8A%94%EC%8B%AB%EC%96%B4_lv1.ipynb\" target=\"_parent\"><img src=\"https://colab.research.google.com/assets/colab-badge.svg\" alt=\"Open In Colab\"/></a>"
      ]
    },
    {
      "cell_type": "code",
      "execution_count": null,
      "metadata": {
        "id": "RJFCGrd2DG01"
      },
      "outputs": [],
      "source": [
        "# 정확성 테스트 17/17 | 효율성 테스트 4/4\n",
        "# stack\n",
        "\n",
        "def solution(arr):\n",
        "    answer = []\n",
        "\n",
        "    for n in arr:\n",
        "        if answer and answer[-1] == n:\n",
        "            continue\n",
        "        answer.append(n)\n",
        "\n",
        "    return answer"
      ]
    }
  ]
}