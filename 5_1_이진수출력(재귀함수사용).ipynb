{
  "nbformat": 4,
  "nbformat_minor": 0,
  "metadata": {
    "colab": {
      "provenance": [],
      "authorship_tag": "ABX9TyOkVPxmT/BpQxU61kecDsAY",
      "include_colab_link": true
    },
    "kernelspec": {
      "name": "python3",
      "display_name": "Python 3"
    },
    "language_info": {
      "name": "python"
    }
  },
  "cells": [
    {
      "cell_type": "markdown",
      "metadata": {
        "id": "view-in-github",
        "colab_type": "text"
      },
      "source": [
        "<a href=\"https://colab.research.google.com/github/nakyeong-kim/CodingTest/blob/main/5_1_%EC%9D%B4%EC%A7%84%EC%88%98%EC%B6%9C%EB%A0%A5(%EC%9E%AC%EA%B7%80%ED%95%A8%EC%88%98%EC%82%AC%EC%9A%A9).ipynb\" target=\"_parent\"><img src=\"https://colab.research.google.com/assets/colab-badge.svg\" alt=\"Open In Colab\"/></a>"
      ]
    },
    {
      "cell_type": "code",
      "execution_count": null,
      "metadata": {
        "colab": {
          "base_uri": "https://localhost:8080/"
        },
        "id": "YA9awG8ftKkp",
        "outputId": "ac8d0c38-9e68-47c9-e790-c9a41693a8f7"
      },
      "outputs": [
        {
          "output_type": "stream",
          "name": "stdout",
          "text": [
            "11\n",
            "1011\n"
          ]
        }
      ],
      "source": [
        "def Recursion(N, square):\n",
        "  if square == 0:\n",
        "    return N\n",
        "  result.append(Recursion(N%(2**square), square-1))\n",
        "  return N//(2**square)\n",
        "\n",
        "N = int(input())\n",
        "temp = N\n",
        "max_square = 0\n",
        "while True:\n",
        "  if temp == 1:\n",
        "    break\n",
        "  temp //= 2\n",
        "  max_square += 1\n",
        "\n",
        "result = []\n",
        "result.append(Recursion(N, max_square))\n",
        "print(''.join(map(str, result[::-1])))"
      ]
    },
    {
      "cell_type": "code",
      "source": [
        "# better code   # 굳이 max_square(몇 번 나눠지는지)을 구할 필요가 없음\n",
        "\n",
        "def Recursion(N):\n",
        "  if N == 0:\n",
        "    return\n",
        "  result.append(N%2)\n",
        "  Recursion(N//2)\n",
        "\n",
        "N = int(input())\n",
        "result = []\n",
        "Recursion(N)\n",
        "print(''.join(map(str, result[::-1])))"
      ],
      "metadata": {
        "colab": {
          "base_uri": "https://localhost:8080/"
        },
        "id": "3C7b_L_MCPF_",
        "outputId": "83d10afe-7c2e-46b7-ef4d-e3832c72b397"
      },
      "execution_count": 2,
      "outputs": [
        {
          "output_type": "stream",
          "name": "stdout",
          "text": [
            "11\n",
            "1011\n"
          ]
        }
      ]
    },
    {
      "cell_type": "code",
      "source": [
        "# better better code   # 처음부터 거꾸로 넣기\n",
        "\n",
        "def Recursion(N):\n",
        "  if N == 0:\n",
        "    return\n",
        "  Recursion(N//2)\n",
        "  result.append(N%2)\n",
        "\n",
        "N = int(input())\n",
        "result = []\n",
        "Recursion(N)\n",
        "print(''.join(map(str, result)))"
      ],
      "metadata": {
        "colab": {
          "base_uri": "https://localhost:8080/"
        },
        "id": "PRBhwHX0EMg0",
        "outputId": "0ed4f7a5-5bbf-4249-8e7f-bd41cc003822"
      },
      "execution_count": 3,
      "outputs": [
        {
          "output_type": "stream",
          "name": "stdout",
          "text": [
            "11\n",
            "1011\n"
          ]
        }
      ]
    }
  ]
}