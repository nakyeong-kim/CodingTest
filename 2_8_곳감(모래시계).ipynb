{
  "nbformat": 4,
  "nbformat_minor": 0,
  "metadata": {
    "colab": {
      "provenance": [],
      "authorship_tag": "ABX9TyNSgFe8xK8AGhRk562wEfhq",
      "include_colab_link": true
    },
    "kernelspec": {
      "name": "python3",
      "display_name": "Python 3"
    },
    "language_info": {
      "name": "python"
    }
  },
  "cells": [
    {
      "cell_type": "markdown",
      "metadata": {
        "id": "view-in-github",
        "colab_type": "text"
      },
      "source": [
        "<a href=\"https://colab.research.google.com/github/nakyeong-kim/CodingTest/blob/main/2_8_%EA%B3%B3%EA%B0%90(%EB%AA%A8%EB%9E%98%EC%8B%9C%EA%B3%84).ipynb\" target=\"_parent\"><img src=\"https://colab.research.google.com/assets/colab-badge.svg\" alt=\"Open In Colab\"/></a>"
      ]
    },
    {
      "cell_type": "code",
      "execution_count": 60,
      "metadata": {
        "colab": {
          "base_uri": "https://localhost:8080/"
        },
        "id": "WqRMW4DrnfSm",
        "outputId": "b7ee4239-06f8-42e8-af8e-35c44ba49e49"
      },
      "outputs": [
        {
          "output_type": "stream",
          "name": "stdout",
          "text": [
            "5\n",
            "10 13 10 12 15\n",
            "12 39 30 23 11\n",
            "11 25 50 53 15\n",
            "19 27 29 37 27\n",
            "19 13 30 13 19\n",
            "3\n",
            "2 0 3\n",
            "5 1 2\n",
            "3 1 4\n",
            "362\n"
          ]
        }
      ],
      "source": [
        "def DriedPersimmon(N, grid, command_list):\n",
        "\n",
        "  for cmd in command_list:\n",
        "    new_list = [0] * N\n",
        "    for i in range(N):\n",
        "      if cmd[1] == 0:     # 왼쪽\n",
        "        new_list[(i-cmd[2])%N] = grid[cmd[0]-1][i]    # insert X : 추가되어버림\n",
        "      elif cmd[1] == 1:   # 오른쪽\n",
        "        new_list[(i+cmd[2])%N] = grid[cmd[0]-1][i]\n",
        "    grid[cmd[0]-1] = new_list\n",
        "\n",
        "  result = 0\n",
        "  for i in range(N):\n",
        "    if i < N//2:\n",
        "      result += sum(grid[i][i:N-i])\n",
        "    else:\n",
        "      result += sum(grid[i][N-i-1:i+1])\n",
        "\n",
        "  return result\n",
        "\n",
        "\n",
        "N = int(input())\n",
        "grid = []\n",
        "for _ in range(N):\n",
        "  grid.append(list(map(int, input().split())))\n",
        "M = int(input())\n",
        "command_list = []\n",
        "for _ in range(M):\n",
        "  command_list.append(list(map(int, input().split())))\n",
        "\n",
        "print(DriedPersimmon(N, grid, command_list))"
      ]
    }
  ]
}