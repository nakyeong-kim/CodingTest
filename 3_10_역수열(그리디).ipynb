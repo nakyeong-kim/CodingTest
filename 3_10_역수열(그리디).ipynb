{
  "nbformat": 4,
  "nbformat_minor": 0,
  "metadata": {
    "colab": {
      "provenance": [],
      "authorship_tag": "ABX9TyMIuhTa++pBJQYIF7IhXJz/",
      "include_colab_link": true
    },
    "kernelspec": {
      "name": "python3",
      "display_name": "Python 3"
    },
    "language_info": {
      "name": "python"
    }
  },
  "cells": [
    {
      "cell_type": "markdown",
      "metadata": {
        "id": "view-in-github",
        "colab_type": "text"
      },
      "source": [
        "<a href=\"https://colab.research.google.com/github/nakyeong-kim/CodingTest/blob/main/3_10_%EC%97%AD%EC%88%98%EC%97%B4(%EA%B7%B8%EB%A6%AC%EB%94%94).ipynb\" target=\"_parent\"><img src=\"https://colab.research.google.com/assets/colab-badge.svg\" alt=\"Open In Colab\"/></a>"
      ]
    },
    {
      "cell_type": "code",
      "execution_count": 10,
      "metadata": {
        "id": "Vn6THiimyyRU",
        "colab": {
          "base_uri": "https://localhost:8080/"
        },
        "outputId": "86a6db87-1a64-4fef-f892-899603484772"
      },
      "outputs": [
        {
          "output_type": "stream",
          "name": "stdout",
          "text": [
            "8\n",
            "5 3 4 0 2 1 1 0\n",
            "4 8 6 2 5 1 3 7 "
          ]
        }
      ],
      "source": [
        "def OriginalSequence(N, inverse_sequence):\n",
        "  original_sequence = {}\n",
        "  for i in range(1, N+1):\n",
        "    original_sequence[i] = 0\n",
        "\n",
        "  original_sequence[inverse_sequence[0]+1] = 1    # 1은 바로 자리 고정\n",
        "  for i in range(1, N):\n",
        "    cnt = inverse_sequence[i]\n",
        "    for j in range(1, N+1):\n",
        "      if cnt == 0 and not original_sequence[j]:\n",
        "        break\n",
        "      if not original_sequence[j]:\n",
        "        cnt -= 1\n",
        "    original_sequence[j] = i+1\n",
        "\n",
        "  return original_sequence.values()\n",
        "\n",
        "\n",
        "N = int(input())\n",
        "inverse_sequence = list(map(int, input().split()))\n",
        "\n",
        "original_sequence = OriginalSequence(N, inverse_sequence)\n",
        "for n in original_sequence:\n",
        "  print(n, end=' ')"
      ]
    }
  ]
}