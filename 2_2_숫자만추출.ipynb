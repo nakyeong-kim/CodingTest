{
  "nbformat": 4,
  "nbformat_minor": 0,
  "metadata": {
    "colab": {
      "provenance": [],
      "authorship_tag": "ABX9TyNYfZMvR0WzLvbKeRVyUoSO",
      "include_colab_link": true
    },
    "kernelspec": {
      "name": "python3",
      "display_name": "Python 3"
    },
    "language_info": {
      "name": "python"
    }
  },
  "cells": [
    {
      "cell_type": "markdown",
      "metadata": {
        "id": "view-in-github",
        "colab_type": "text"
      },
      "source": [
        "<a href=\"https://colab.research.google.com/github/nakyeong-kim/CodingTest/blob/main/2_2_%EC%88%AB%EC%9E%90%EB%A7%8C%EC%B6%94%EC%B6%9C.ipynb\" target=\"_parent\"><img src=\"https://colab.research.google.com/assets/colab-badge.svg\" alt=\"Open In Colab\"/></a>"
      ]
    },
    {
      "cell_type": "code",
      "execution_count": 11,
      "metadata": {
        "colab": {
          "base_uri": "https://localhost:8080/"
        },
        "id": "JSo_k2av0_K5",
        "outputId": "72a832c9-b5a2-4859-8794-1dd02c0ff4db"
      },
      "outputs": [
        {
          "output_type": "stream",
          "name": "stdout",
          "text": [
            "g0en2Ts8eSoft\n",
            "28\n",
            "6\n"
          ]
        }
      ],
      "source": [
        "def CountDivisor(num):\n",
        "  cnt = 0\n",
        "  for i in range(1, num+1):\n",
        "    if num % i == 0:\n",
        "      cnt += 1\n",
        "  return cnt\n",
        "\n",
        "def ExtractNumber(strings):\n",
        "  num = ''\n",
        "  for s in strings:\n",
        "    if s.isdecimal():   #isinstance 안됨  #isdigit도 가능\n",
        "      num += s\n",
        "\n",
        "  return int(num), CountDivisor(int(num))\n",
        "\n",
        "num, divisor_cnt = ExtractNumber(input())\n",
        "print(num)\n",
        "print(divisor_cnt)"
      ]
    }
  ]
}