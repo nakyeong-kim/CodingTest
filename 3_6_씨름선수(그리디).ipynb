{
  "nbformat": 4,
  "nbformat_minor": 0,
  "metadata": {
    "colab": {
      "provenance": [],
      "authorship_tag": "ABX9TyMiPStquXMvn+9tfIv5iLUo",
      "include_colab_link": true
    },
    "kernelspec": {
      "name": "python3",
      "display_name": "Python 3"
    },
    "language_info": {
      "name": "python"
    }
  },
  "cells": [
    {
      "cell_type": "markdown",
      "metadata": {
        "id": "view-in-github",
        "colab_type": "text"
      },
      "source": [
        "<a href=\"https://colab.research.google.com/github/nakyeong-kim/CodingTest/blob/main/3_6_%EC%94%A8%EB%A6%84%EC%84%A0%EC%88%98(%EA%B7%B8%EB%A6%AC%EB%94%94).ipynb\" target=\"_parent\"><img src=\"https://colab.research.google.com/assets/colab-badge.svg\" alt=\"Open In Colab\"/></a>"
      ]
    },
    {
      "cell_type": "code",
      "execution_count": 5,
      "metadata": {
        "id": "Vn6THiimyyRU",
        "colab": {
          "base_uri": "https://localhost:8080/"
        },
        "outputId": "a437e246-5dc5-4c1e-b0cb-402b075ce199"
      },
      "outputs": [
        {
          "output_type": "stream",
          "name": "stdout",
          "text": [
            "5\n",
            "172 67\n",
            "183 65\n",
            "180 70\n",
            "170 72\n",
            "181 60\n",
            "3\n"
          ]
        }
      ],
      "source": [
        "def SelectWrestler(N, candidate_list):\n",
        "  candidate_list.sort(key=lambda x:x[0], reverse=True)    # 내림차순 정렬해야 함!\n",
        "\n",
        "  result = 1\n",
        "  weight = candidate_list[0][1]\n",
        "  for i in range(1, N):\n",
        "    if candidate_list[i][1] > weight:\n",
        "      result += 1\n",
        "      weight = candidate_list[i][1]\n",
        "\n",
        "  return result\n",
        "\n",
        "N = int(input())\n",
        "candidate_list = []\n",
        "for _ in range(N):\n",
        "  candidate_list.append(list(map(int, input().split())))\n",
        "\n",
        "print(SelectWrestler(N, candidate_list))"
      ]
    }
  ]
}