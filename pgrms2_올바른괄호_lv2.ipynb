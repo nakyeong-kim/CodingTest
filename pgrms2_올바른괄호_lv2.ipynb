{
  "nbformat": 4,
  "nbformat_minor": 0,
  "metadata": {
    "colab": {
      "provenance": [],
      "authorship_tag": "ABX9TyNZSSeEH+8roi9vCfIx/Bkc",
      "include_colab_link": true
    },
    "kernelspec": {
      "name": "python3",
      "display_name": "Python 3"
    },
    "language_info": {
      "name": "python"
    }
  },
  "cells": [
    {
      "cell_type": "markdown",
      "metadata": {
        "id": "view-in-github",
        "colab_type": "text"
      },
      "source": [
        "<a href=\"https://colab.research.google.com/github/nakyeong-kim/CodingTest/blob/main/pgrms2_%EC%98%AC%EB%B0%94%EB%A5%B8%EA%B4%84%ED%98%B8_lv2.ipynb\" target=\"_parent\"><img src=\"https://colab.research.google.com/assets/colab-badge.svg\" alt=\"Open In Colab\"/></a>"
      ]
    },
    {
      "cell_type": "code",
      "execution_count": null,
      "metadata": {
        "id": "_gCOJbLQyZS9"
      },
      "outputs": [],
      "source": [
        "# 정확성 테스트 18/18 | 효율성 테스트 2/2\n",
        "def solution(s):\n",
        "    stack = []\n",
        "\n",
        "    for parenthesis in s:\n",
        "        if parenthesis == '(':\n",
        "            stack.append(parenthesis)\n",
        "        else:\n",
        "            if not stack:\n",
        "                return False\n",
        "            stack.pop()\n",
        "\n",
        "    if not stack:\n",
        "        return True\n",
        "    return False"
      ]
    }
  ]
}